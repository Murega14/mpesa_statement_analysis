{
 "cells": [
  {
   "cell_type": "code",
   "execution_count": null,
   "metadata": {},
   "outputs": [],
   "source": [
    "#importing libraries\n",
    "import pandas as pd\n",
    "import sqlite3\n",
    "import matplotlib\n",
    "import seaborn"
   ]
  },
  {
   "cell_type": "code",
   "execution_count": null,
   "metadata": {},
   "outputs": [],
   "source": [
    "#configuring mysql into jupyter\n",
    "%load_ext sql\n",
    "%config SqlMagic.autopandas=True"
   ]
  },
  {
   "cell_type": "code",
   "execution_count": 17,
   "metadata": {},
   "outputs": [
    {
     "name": "stderr",
     "output_type": "stream",
     "text": [
      "Got stderr: Picked up _JAVA_OPTIONS: -Dawt.useSystemAAFontSettings=on -Dswing.aatext=true\n",
      "\n"
     ]
    },
    {
     "name": "stdout",
     "output_type": "stream",
     "text": [
      "                                                      ,\n",
      "0                    TRANSACTION TYPE,PAID IN,PAID OUT,\n",
      "1                        SEND MONEY:,0.00,\"135,777.00\",\n",
      "2                    RECEIVED MONEY:,\"156,781.66\",0.00,\n",
      "3                           AGENT DEPOSIT:,350.00,0.00,\n",
      "4                    AGENT WITHDRAWAL:,0.00,\"9,090.00\",\n",
      "...                                                 ...\n",
      "7425  07******245 daniel njeri\",Completed,\"1,050.00\"...\n",
      "7426  Statement Verification Code,\"To verify the val...\n",
      "7427                       prompts to enter the code.\",\n",
      "7428                                                 ,,\n",
      "7429                                         KZ3FXNRZ,,\n",
      "\n",
      "[7430 rows x 1 columns]\n"
     ]
    }
   ],
   "source": [
    "#converting the statement PDF file to a data frame\n",
    "import tabula\n",
    "\n",
    "#path to the PDF file\n",
    "pdf_path = \"/home/muregz/data_analysis/mpesa_statement_analysis/mpesa_statement.pdf\"\n",
    "\n",
    "# password to unlock the PDF file\n",
    "password = \"900365\"\n",
    "\n",
    "# options for the PDF extraction\n",
    "options = {\n",
    "    \"pages\": \"all\",        # Extracting data from all the pages\n",
    "    \"password\": password   # password to unlock the PDF\n",
    "}\n",
    "\n",
    "# read tables from a PDF file and save them as CSV files\n",
    "tabula.convert_into('/home/muregz/data_analysis/mpesa_statement_analysis/mpesa_statement.pdf', 'mpesa_statement.csv', output_format='csv', **options)\n",
    "\n",
    "df = pd.read_csv('/home/muregz/data_analysis/mpesa_statement_analysis/mpesa_statement.csv', delimiter=';')\n",
    "\n",
    "#dropping the unnamed column\n",
    "#df = df.drop('Unnamed', axis=1)\n",
    "\n",
    "# Print the extracted data\n",
    "print(df)\n"
   ]
  },
  {
   "cell_type": "code",
   "execution_count": null,
   "metadata": {},
   "outputs": [],
   "source": []
  }
 ],
 "metadata": {
  "kernelspec": {
   "display_name": "Python 3",
   "language": "python",
   "name": "python3"
  },
  "language_info": {
   "codemirror_mode": {
    "name": "ipython",
    "version": 3
   },
   "file_extension": ".py",
   "mimetype": "text/x-python",
   "name": "python",
   "nbconvert_exporter": "python",
   "pygments_lexer": "ipython3",
   "version": "3.11.2"
  },
  "orig_nbformat": 4
 },
 "nbformat": 4,
 "nbformat_minor": 2
}
