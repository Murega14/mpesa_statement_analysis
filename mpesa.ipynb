{
 "cells": [
  {
   "cell_type": "code",
   "execution_count": 1,
   "metadata": {},
   "outputs": [],
   "source": [
    "#importing libraries\n",
    "import pandas as pd\n",
    "import sqlite3\n",
    "import matplotlib\n",
    "import seaborn"
   ]
  },
  {
   "cell_type": "code",
   "execution_count": 2,
   "metadata": {},
   "outputs": [],
   "source": [
    "#configuring mysql into jupyter\n",
    "%load_ext sql\n",
    "%config SqlMagic.autopandas=True"
   ]
  },
  {
   "cell_type": "code",
   "execution_count": 3,
   "metadata": {},
   "outputs": [
    {
     "name": "stdout",
     "output_type": "stream",
     "text": [
      "                                                      ,\n",
      "0     Receipt No.,Completion Time,Details,Transactio...\n",
      "1     REF8MUC88I,2023-05-15 20:19:22,\"Customer Trans...\n",
      "2     to - 07******212 IAN MAINA\",Completed,,-50.00,...\n",
      "3     REF8MUC88I,2023-05-15 20:19:22,OverDraft of Cr...\n",
      "4     REF9MU2IWF,2023-05-15 20:17:21,\"Merchant Payme...\n",
      "...                                                 ...\n",
      "7416  07******245 daniel njeri\",Completed,\"1,050.00\"...\n",
      "7417  Statement Verification Code,\"To verify the val...\n",
      "7418                       prompts to enter the code.\",\n",
      "7419                                                 ,,\n",
      "7420                                         KZ3FXNRZ,,\n",
      "\n",
      "[7421 rows x 1 columns]\n"
     ]
    }
   ],
   "source": [
    "#converting the statement PDF file to a data frame\n",
    "import tabula\n",
    "\n",
    "#path to the PDF file\n",
    "pdf_path = \"/home/muregz/data_analysis/mpesa_statement_analysis/mpesa_statement.pdf\"\n",
    "\n",
    "# password to unlock the PDF file\n",
    "password = \"900365\"\n",
    "\n",
    "# options for the PDF extraction\n",
    "options = {\n",
    "    \"pages\": \"all\",        # Extracting data from all the pages\n",
    "    \"password\": password   # password to unlock the PDF\n",
    "}\n",
    "\n",
    "# read tables from a PDF file and save them as CSV files\n",
    "#tabula.convert_into('/home/muregz/data_analysis/mpesa_statement_analysis/mpesa_statement.pdf', 'mpesa_statement.csv', output_format='csv', **options)\n",
    "\n",
    "df = pd.read_csv('/home/muregz/data_analysis/mpesa_statement_analysis/mpesa_statement.csv', delimiter=';')\n",
    "\n",
    "#dropping the unnamed column\n",
    "#df = df.drop('Unnamed', axis=1)\n",
    "\n",
    "# Print the extracted data\n",
    "print(df)\n"
   ]
  },
  {
   "cell_type": "code",
   "execution_count": 5,
   "metadata": {},
   "outputs": [],
   "source": [
    "#creating a local database to store the data\n",
    "conn = sqlite3.connect('mpesa_statement_database')\n",
    "c = conn.cursor()\n",
    "\n",
    "c.execute('''CREATE TABLE IF NOT EXISTS mpesa (\n",
    "    `Receipt No.` VARCHAR,\n",
    "    `Completion Time` DATETIME,\n",
    "    Details VARCHAR,\n",
    "    `Transaction Status` VARCHAR,\n",
    "    `Paid In` INT,\n",
    "    Withdrawn INT,\n",
    "    Balance INT\n",
    ")\n",
    "''')\n",
    "conn.commit()"
   ]
  },
  {
   "cell_type": "code",
   "execution_count": 6,
   "metadata": {},
   "outputs": [
    {
     "data": {
      "text/plain": [
       "7421"
      ]
     },
     "execution_count": 6,
     "metadata": {},
     "output_type": "execute_result"
    }
   ],
   "source": [
    "df.to_sql('mpesa', conn, if_exists='replace', index = False)"
   ]
  },
  {
   "cell_type": "code",
   "execution_count": 8,
   "metadata": {},
   "outputs": [],
   "source": [
    "import os\n",
    "from sqlalchemy import create_engine\n",
    "# Construct the connection URL\n",
    "db_url = f\"sqlite:///{os.path.abspath('/home/muregz/data_analysis/mpesa_statement_analysis/mpesa_statement_database')}\"\n",
    "\n",
    "# Set the DATABASE_URL environment variable\n",
    "os.environ['DATABASE_URL'] = db_url\n",
    "\n",
    "# Create a database engine\n",
    "engine = create_engine(os.environ['DATABASE_URL'])"
   ]
  },
  {
   "cell_type": "code",
   "execution_count": 9,
   "metadata": {},
   "outputs": [
    {
     "name": "stdout",
     "output_type": "stream",
     "text": [
      "Done.\n"
     ]
    },
    {
     "data": {
      "text/html": [
       "<div>\n",
       "<style scoped>\n",
       "    .dataframe tbody tr th:only-of-type {\n",
       "        vertical-align: middle;\n",
       "    }\n",
       "\n",
       "    .dataframe tbody tr th {\n",
       "        vertical-align: top;\n",
       "    }\n",
       "\n",
       "    .dataframe thead th {\n",
       "        text-align: right;\n",
       "    }\n",
       "</style>\n",
       "<table border=\"1\" class=\"dataframe\">\n",
       "  <thead>\n",
       "    <tr style=\"text-align: right;\">\n",
       "      <th></th>\n",
       "      <th>,</th>\n",
       "    </tr>\n",
       "  </thead>\n",
       "  <tbody>\n",
       "    <tr>\n",
       "      <th>0</th>\n",
       "      <td>Receipt No.,Completion Time,Details,Transactio...</td>\n",
       "    </tr>\n",
       "    <tr>\n",
       "      <th>1</th>\n",
       "      <td>REF8MUC88I,2023-05-15 20:19:22,\"Customer Trans...</td>\n",
       "    </tr>\n",
       "    <tr>\n",
       "      <th>2</th>\n",
       "      <td>to - 07******212 IAN MAINA\",Completed,,-50.00,...</td>\n",
       "    </tr>\n",
       "    <tr>\n",
       "      <th>3</th>\n",
       "      <td>REF8MUC88I,2023-05-15 20:19:22,OverDraft of Cr...</td>\n",
       "    </tr>\n",
       "    <tr>\n",
       "      <th>4</th>\n",
       "      <td>REF9MU2IWF,2023-05-15 20:17:21,\"Merchant Payme...</td>\n",
       "    </tr>\n",
       "    <tr>\n",
       "      <th>...</th>\n",
       "      <td>...</td>\n",
       "    </tr>\n",
       "    <tr>\n",
       "      <th>7416</th>\n",
       "      <td>07******245 daniel njeri\",Completed,\"1,050.00\"...</td>\n",
       "    </tr>\n",
       "    <tr>\n",
       "      <th>7417</th>\n",
       "      <td>Statement Verification Code,\"To verify the val...</td>\n",
       "    </tr>\n",
       "    <tr>\n",
       "      <th>7418</th>\n",
       "      <td>prompts to enter the code.\",</td>\n",
       "    </tr>\n",
       "    <tr>\n",
       "      <th>7419</th>\n",
       "      <td>,,</td>\n",
       "    </tr>\n",
       "    <tr>\n",
       "      <th>7420</th>\n",
       "      <td>KZ3FXNRZ,,</td>\n",
       "    </tr>\n",
       "  </tbody>\n",
       "</table>\n",
       "<p>7421 rows × 1 columns</p>\n",
       "</div>"
      ],
      "text/plain": [
       "                                                      ,\n",
       "0     Receipt No.,Completion Time,Details,Transactio...\n",
       "1     REF8MUC88I,2023-05-15 20:19:22,\"Customer Trans...\n",
       "2     to - 07******212 IAN MAINA\",Completed,,-50.00,...\n",
       "3     REF8MUC88I,2023-05-15 20:19:22,OverDraft of Cr...\n",
       "4     REF9MU2IWF,2023-05-15 20:17:21,\"Merchant Payme...\n",
       "...                                                 ...\n",
       "7416  07******245 daniel njeri\",Completed,\"1,050.00\"...\n",
       "7417  Statement Verification Code,\"To verify the val...\n",
       "7418                       prompts to enter the code.\",\n",
       "7419                                                 ,,\n",
       "7420                                         KZ3FXNRZ,,\n",
       "\n",
       "[7421 rows x 1 columns]"
      ]
     },
     "execution_count": 9,
     "metadata": {},
     "output_type": "execute_result"
    }
   ],
   "source": [
    "%%sql\n",
    "SELECT * FROM mpesa;"
   ]
  }
 ],
 "metadata": {
  "kernelspec": {
   "display_name": "Python 3",
   "language": "python",
   "name": "python3"
  },
  "language_info": {
   "codemirror_mode": {
    "name": "ipython",
    "version": 3
   },
   "file_extension": ".py",
   "mimetype": "text/x-python",
   "name": "python",
   "nbconvert_exporter": "python",
   "pygments_lexer": "ipython3",
   "version": "3.11.2"
  },
  "orig_nbformat": 4
 },
 "nbformat": 4,
 "nbformat_minor": 2
}
