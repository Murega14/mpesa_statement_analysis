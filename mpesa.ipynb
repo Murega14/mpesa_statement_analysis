{
 "cells": [
  {
   "cell_type": "code",
   "execution_count": 1,
   "metadata": {},
   "outputs": [],
   "source": [
    "#importing libraries\n",
    "import pandas as pd\n",
    "import matplotlib.pyplot as plt\n",
    "import seaborn as sns"
   ]
  },
  {
   "cell_type": "code",
   "execution_count": 2,
   "metadata": {},
   "outputs": [
    {
     "data": {
      "text/html": [
       "<div>\n",
       "<style scoped>\n",
       "    .dataframe tbody tr th:only-of-type {\n",
       "        vertical-align: middle;\n",
       "    }\n",
       "\n",
       "    .dataframe tbody tr th {\n",
       "        vertical-align: top;\n",
       "    }\n",
       "\n",
       "    .dataframe thead th {\n",
       "        text-align: right;\n",
       "    }\n",
       "</style>\n",
       "<table border=\"1\" class=\"dataframe\">\n",
       "  <thead>\n",
       "    <tr style=\"text-align: right;\">\n",
       "      <th></th>\n",
       "      <th>Receipt No.</th>\n",
       "      <th>Completion Time</th>\n",
       "      <th>Details</th>\n",
       "      <th>Transaction Status</th>\n",
       "      <th>Paid In</th>\n",
       "      <th>Withdrawn</th>\n",
       "      <th>Balance</th>\n",
       "    </tr>\n",
       "  </thead>\n",
       "  <tbody>\n",
       "    <tr>\n",
       "      <th>0</th>\n",
       "      <td>REF8MUC88I</td>\n",
       "      <td>2023-05-15 20:19:22</td>\n",
       "      <td>Customer Transfer Fuliza MPesato - 07******212...</td>\n",
       "      <td>Completed</td>\n",
       "      <td>NaN</td>\n",
       "      <td>-50</td>\n",
       "      <td>0</td>\n",
       "    </tr>\n",
       "    <tr>\n",
       "      <th>1</th>\n",
       "      <td>REF8MUC88I</td>\n",
       "      <td>2023-05-15 20:19:22</td>\n",
       "      <td>OverDraft of Credit Party</td>\n",
       "      <td>Completed</td>\n",
       "      <td>50</td>\n",
       "      <td>NaN</td>\n",
       "      <td>50</td>\n",
       "    </tr>\n",
       "    <tr>\n",
       "      <th>2</th>\n",
       "      <td>REF9MU2IWF</td>\n",
       "      <td>2023-05-15 20:17:21</td>\n",
       "      <td>Merchant Payment Fuliza M-Pesato 7384394 - DAM...</td>\n",
       "      <td>Completed</td>\n",
       "      <td>NaN</td>\n",
       "      <td>-30</td>\n",
       "      <td>0</td>\n",
       "    </tr>\n",
       "    <tr>\n",
       "      <th>3</th>\n",
       "      <td>REF9MU2IWF</td>\n",
       "      <td>2023-05-15 20:17:21</td>\n",
       "      <td>OverDraft of Credit Party</td>\n",
       "      <td>Completed</td>\n",
       "      <td>30</td>\n",
       "      <td>NaN</td>\n",
       "      <td>30</td>\n",
       "    </tr>\n",
       "    <tr>\n",
       "      <th>4</th>\n",
       "      <td>REF7MT5G7N</td>\n",
       "      <td>2023-05-15 20:10:35</td>\n",
       "      <td>Customer Transfer Fuliza MPesato - 2547******5...</td>\n",
       "      <td>Completed</td>\n",
       "      <td>NaN</td>\n",
       "      <td>-10</td>\n",
       "      <td>0</td>\n",
       "    </tr>\n",
       "    <tr>\n",
       "      <th>5</th>\n",
       "      <td>REF7MT5G7N</td>\n",
       "      <td>2023-05-15 20:10:35</td>\n",
       "      <td>OverDraft of Credit Party</td>\n",
       "      <td>Completed</td>\n",
       "      <td>10</td>\n",
       "      <td>NaN</td>\n",
       "      <td>10</td>\n",
       "    </tr>\n",
       "    <tr>\n",
       "      <th>6</th>\n",
       "      <td>REF6MSH7KM</td>\n",
       "      <td>2023-05-15 20:05:47</td>\n",
       "      <td>Merchant Payment Fuliza M-Pesato 671957 - FISH...</td>\n",
       "      <td>Completed</td>\n",
       "      <td>NaN</td>\n",
       "      <td>-70</td>\n",
       "      <td>0</td>\n",
       "    </tr>\n",
       "    <tr>\n",
       "      <th>7</th>\n",
       "      <td>REF6MSH7KM</td>\n",
       "      <td>2023-05-15 20:05:47</td>\n",
       "      <td>OverDraft of Credit Party</td>\n",
       "      <td>Completed</td>\n",
       "      <td>70</td>\n",
       "      <td>NaN</td>\n",
       "      <td>70</td>\n",
       "    </tr>\n",
       "    <tr>\n",
       "      <th>8</th>\n",
       "      <td>REF5MQQC5T</td>\n",
       "      <td>2023-05-15 19:53:32</td>\n",
       "      <td>OD Loan Repayment to 232323 -M-PESA Overdraw</td>\n",
       "      <td>Completed</td>\n",
       "      <td>NaN</td>\n",
       "      <td>-150</td>\n",
       "      <td>0</td>\n",
       "    </tr>\n",
       "    <tr>\n",
       "      <th>9</th>\n",
       "      <td>REF0MQQ2C2</td>\n",
       "      <td>2023-05-15 19:53:32</td>\n",
       "      <td>Funds received from -07******440 diana mugwe</td>\n",
       "      <td>Completed</td>\n",
       "      <td>150</td>\n",
       "      <td>NaN</td>\n",
       "      <td>150</td>\n",
       "    </tr>\n",
       "  </tbody>\n",
       "</table>\n",
       "</div>"
      ],
      "text/plain": [
       "  Receipt No.      Completion Time  \\\n",
       "0  REF8MUC88I  2023-05-15 20:19:22   \n",
       "1  REF8MUC88I  2023-05-15 20:19:22   \n",
       "2  REF9MU2IWF  2023-05-15 20:17:21   \n",
       "3  REF9MU2IWF  2023-05-15 20:17:21   \n",
       "4  REF7MT5G7N  2023-05-15 20:10:35   \n",
       "5  REF7MT5G7N  2023-05-15 20:10:35   \n",
       "6  REF6MSH7KM  2023-05-15 20:05:47   \n",
       "7  REF6MSH7KM  2023-05-15 20:05:47   \n",
       "8  REF5MQQC5T  2023-05-15 19:53:32   \n",
       "9  REF0MQQ2C2  2023-05-15 19:53:32   \n",
       "\n",
       "                                             Details Transaction Status  \\\n",
       "0  Customer Transfer Fuliza MPesato - 07******212...          Completed   \n",
       "1                          OverDraft of Credit Party          Completed   \n",
       "2  Merchant Payment Fuliza M-Pesato 7384394 - DAM...          Completed   \n",
       "3                          OverDraft of Credit Party          Completed   \n",
       "4  Customer Transfer Fuliza MPesato - 2547******5...          Completed   \n",
       "5                          OverDraft of Credit Party          Completed   \n",
       "6  Merchant Payment Fuliza M-Pesato 671957 - FISH...          Completed   \n",
       "7                          OverDraft of Credit Party          Completed   \n",
       "8       OD Loan Repayment to 232323 -M-PESA Overdraw          Completed   \n",
       "9       Funds received from -07******440 diana mugwe          Completed   \n",
       "\n",
       "  Paid In Withdrawn Balance  \n",
       "0     NaN       -50       0  \n",
       "1      50       NaN      50  \n",
       "2     NaN       -30       0  \n",
       "3      30       NaN      30  \n",
       "4     NaN       -10       0  \n",
       "5      10       NaN      10  \n",
       "6     NaN       -70       0  \n",
       "7      70       NaN      70  \n",
       "8     NaN      -150       0  \n",
       "9     150       NaN     150  "
      ]
     },
     "execution_count": 2,
     "metadata": {},
     "output_type": "execute_result"
    }
   ],
   "source": [
    "df = pd.read_excel('/home/muregz/data_analysis/mpesa_statement_analysis/mpesa_statement.ods')\n",
    "df.head(10)"
   ]
  },
  {
   "cell_type": "code",
   "execution_count": 3,
   "metadata": {},
   "outputs": [
    {
     "data": {
      "text/plain": [
       "Receipt No.            346\n",
       "Completion Time        347\n",
       "Details                349\n",
       "Transaction Status     348\n",
       "Paid In               2550\n",
       "Withdrawn             1781\n",
       "Balance                348\n",
       "dtype: int64"
      ]
     },
     "execution_count": 3,
     "metadata": {},
     "output_type": "execute_result"
    }
   ],
   "source": [
    "#checking if there are any null values in the dataset\n",
    "df.isna().sum()"
   ]
  },
  {
   "cell_type": "code",
   "execution_count": 4,
   "metadata": {},
   "outputs": [
    {
     "data": {
      "text/plain": [
       "Receipt No.           object\n",
       "Completion Time       object\n",
       "Details               object\n",
       "Transaction Status    object\n",
       "Paid In               object\n",
       "Withdrawn             object\n",
       "Balance               object\n",
       "dtype: object"
      ]
     },
     "execution_count": 4,
     "metadata": {},
     "output_type": "execute_result"
    }
   ],
   "source": [
    "#checking the datatypes in the dataframe\n",
    "df.dtypes"
   ]
  },
  {
   "cell_type": "code",
   "execution_count": 5,
   "metadata": {},
   "outputs": [
    {
     "name": "stdout",
     "output_type": "stream",
     "text": [
      "468,474.82\n"
     ]
    }
   ],
   "source": [
    "#showing the total received amount\n",
    "df['Paid In'] = pd.to_numeric(df['Paid In'], errors='coerce')\n",
    "\n",
    "# Calculate the sum of the 'Paid In' column\n",
    "total_received = df['Paid In'].sum()\n",
    "\n",
    "print('{:,.2f}'.format(total_received))"
   ]
  },
  {
   "cell_type": "code",
   "execution_count": 6,
   "metadata": {},
   "outputs": [
    {
     "name": "stdout",
     "output_type": "stream",
     "text": [
      "468,381.71\n"
     ]
    }
   ],
   "source": [
    "#showing the total amount spent\n",
    "df['Withdrawn'] = pd.to_numeric(df['Withdrawn'], errors='coerce')\n",
    "\n",
    "#calculatiing the sum of the withdrawn column\n",
    "total_spent = df['Withdrawn'].sum()\n",
    "\n",
    "print('{:,.2f}'.format(abs(total_spent)))"
   ]
  },
  {
   "cell_type": "code",
   "execution_count": 7,
   "metadata": {},
   "outputs": [
    {
     "name": "stdout",
     "output_type": "stream",
     "text": [
      "                                                Details  Paid In\n",
      "3768  Receive International TransferFrom 339888 - CH...  21046.0\n"
     ]
    }
   ],
   "source": [
    "#showing the highest amount received\n",
    "highest_amount_row = df[df['Paid In'] == df['Paid In'].max()]\n",
    "highest_amount_details = highest_amount_row[['Details', 'Paid In']]\n",
    "print(highest_amount_details)\n"
   ]
  },
  {
   "cell_type": "code",
   "execution_count": 8,
   "metadata": {},
   "outputs": [
    {
     "name": "stdout",
     "output_type": "stream",
     "text": [
      "                                                Details  Withdrawn\n",
      "3697  Pay Bill Fuliza M-Pesa to 100205- CUEA via Cit...   -20790.0\n"
     ]
    }
   ],
   "source": [
    "#showing the highest amount spent\n",
    "highest_spent_row = df[df['Withdrawn']  == df['Withdrawn'].min()]\n",
    "highest_spent_details = highest_spent_row[['Details', 'Withdrawn']]\n",
    "print(highest_spent_details)"
   ]
  },
  {
   "cell_type": "code",
   "execution_count": 9,
   "metadata": {},
   "outputs": [
    {
     "data": {
      "text/html": [
       "<div>\n",
       "<style scoped>\n",
       "    .dataframe tbody tr th:only-of-type {\n",
       "        vertical-align: middle;\n",
       "    }\n",
       "\n",
       "    .dataframe tbody tr th {\n",
       "        vertical-align: top;\n",
       "    }\n",
       "\n",
       "    .dataframe thead th {\n",
       "        text-align: right;\n",
       "    }\n",
       "</style>\n",
       "<table border=\"1\" class=\"dataframe\">\n",
       "  <thead>\n",
       "    <tr style=\"text-align: right;\">\n",
       "      <th></th>\n",
       "      <th>Receipt No.</th>\n",
       "      <th>Completion Time</th>\n",
       "      <th>Details</th>\n",
       "      <th>Transaction Status</th>\n",
       "      <th>Paid In</th>\n",
       "      <th>Withdrawn</th>\n",
       "      <th>Balance</th>\n",
       "    </tr>\n",
       "  </thead>\n",
       "  <tbody>\n",
       "    <tr>\n",
       "      <th>0</th>\n",
       "      <td>REF8MUC88I</td>\n",
       "      <td>2023-05-15 20:19:22</td>\n",
       "      <td>Customer Transfer Fuliza MPesato - 07******212...</td>\n",
       "      <td>Completed</td>\n",
       "      <td>NaN</td>\n",
       "      <td>-50.00</td>\n",
       "      <td>0</td>\n",
       "    </tr>\n",
       "    <tr>\n",
       "      <th>1</th>\n",
       "      <td>REF8MUC88I</td>\n",
       "      <td>2023-05-15 20:19:22</td>\n",
       "      <td>OverDraft of Credit Party</td>\n",
       "      <td>Completed</td>\n",
       "      <td>50.0</td>\n",
       "      <td>NaN</td>\n",
       "      <td>50</td>\n",
       "    </tr>\n",
       "    <tr>\n",
       "      <th>2</th>\n",
       "      <td>REF9MU2IWF</td>\n",
       "      <td>2023-05-15 20:17:21</td>\n",
       "      <td>Merchant Payment Fuliza M-Pesato 7384394 - DAM...</td>\n",
       "      <td>Completed</td>\n",
       "      <td>NaN</td>\n",
       "      <td>-30.00</td>\n",
       "      <td>0</td>\n",
       "    </tr>\n",
       "    <tr>\n",
       "      <th>3</th>\n",
       "      <td>REF9MU2IWF</td>\n",
       "      <td>2023-05-15 20:17:21</td>\n",
       "      <td>OverDraft of Credit Party</td>\n",
       "      <td>Completed</td>\n",
       "      <td>30.0</td>\n",
       "      <td>NaN</td>\n",
       "      <td>30</td>\n",
       "    </tr>\n",
       "    <tr>\n",
       "      <th>4</th>\n",
       "      <td>REF7MT5G7N</td>\n",
       "      <td>2023-05-15 20:10:35</td>\n",
       "      <td>Customer Transfer Fuliza MPesato - 2547******5...</td>\n",
       "      <td>Completed</td>\n",
       "      <td>NaN</td>\n",
       "      <td>-10.00</td>\n",
       "      <td>0</td>\n",
       "    </tr>\n",
       "    <tr>\n",
       "      <th>...</th>\n",
       "      <td>...</td>\n",
       "      <td>...</td>\n",
       "      <td>...</td>\n",
       "      <td>...</td>\n",
       "      <td>...</td>\n",
       "      <td>...</td>\n",
       "      <td>...</td>\n",
       "    </tr>\n",
       "    <tr>\n",
       "      <th>3982</th>\n",
       "      <td>NaN</td>\n",
       "      <td>NaN</td>\n",
       "      <td>NaN</td>\n",
       "      <td>NaN</td>\n",
       "      <td>NaN</td>\n",
       "      <td>NaN</td>\n",
       "      <td>NaN</td>\n",
       "    </tr>\n",
       "    <tr>\n",
       "      <th>3983</th>\n",
       "      <td>NaN</td>\n",
       "      <td>NaN</td>\n",
       "      <td>NaN</td>\n",
       "      <td>NaN</td>\n",
       "      <td>NaN</td>\n",
       "      <td>NaN</td>\n",
       "      <td>NaN</td>\n",
       "    </tr>\n",
       "    <tr>\n",
       "      <th>3984</th>\n",
       "      <td>NaN</td>\n",
       "      <td>NaN</td>\n",
       "      <td>NaN</td>\n",
       "      <td>NaN</td>\n",
       "      <td>NaN</td>\n",
       "      <td>NaN</td>\n",
       "      <td>NaN</td>\n",
       "    </tr>\n",
       "    <tr>\n",
       "      <th>3985</th>\n",
       "      <td>QEG03RDEQM</td>\n",
       "      <td>2022-05-16 12:52:30</td>\n",
       "      <td>OD Loan Repayment to 232323 -M-PESA Overdraw</td>\n",
       "      <td>Completed</td>\n",
       "      <td>NaN</td>\n",
       "      <td>-480.37</td>\n",
       "      <td>569.63</td>\n",
       "    </tr>\n",
       "    <tr>\n",
       "      <th>3986</th>\n",
       "      <td>QEG23RDHRU</td>\n",
       "      <td>2022-05-16 12:52:29</td>\n",
       "      <td>Funds received from -07******245 daniel njeri</td>\n",
       "      <td>Completed</td>\n",
       "      <td>1050.0</td>\n",
       "      <td>NaN</td>\n",
       "      <td>1050</td>\n",
       "    </tr>\n",
       "  </tbody>\n",
       "</table>\n",
       "<p>3987 rows × 7 columns</p>\n",
       "</div>"
      ],
      "text/plain": [
       "     Receipt No.      Completion Time  \\\n",
       "0     REF8MUC88I  2023-05-15 20:19:22   \n",
       "1     REF8MUC88I  2023-05-15 20:19:22   \n",
       "2     REF9MU2IWF  2023-05-15 20:17:21   \n",
       "3     REF9MU2IWF  2023-05-15 20:17:21   \n",
       "4     REF7MT5G7N  2023-05-15 20:10:35   \n",
       "...          ...                  ...   \n",
       "3982         NaN                  NaN   \n",
       "3983         NaN                  NaN   \n",
       "3984         NaN                  NaN   \n",
       "3985  QEG03RDEQM  2022-05-16 12:52:30   \n",
       "3986  QEG23RDHRU  2022-05-16 12:52:29   \n",
       "\n",
       "                                                Details Transaction Status  \\\n",
       "0     Customer Transfer Fuliza MPesato - 07******212...          Completed   \n",
       "1                             OverDraft of Credit Party          Completed   \n",
       "2     Merchant Payment Fuliza M-Pesato 7384394 - DAM...          Completed   \n",
       "3                             OverDraft of Credit Party          Completed   \n",
       "4     Customer Transfer Fuliza MPesato - 2547******5...          Completed   \n",
       "...                                                 ...                ...   \n",
       "3982                                                NaN                NaN   \n",
       "3983                                                NaN                NaN   \n",
       "3984                                                NaN                NaN   \n",
       "3985       OD Loan Repayment to 232323 -M-PESA Overdraw          Completed   \n",
       "3986      Funds received from -07******245 daniel njeri          Completed   \n",
       "\n",
       "      Paid In  Withdrawn Balance  \n",
       "0         NaN     -50.00       0  \n",
       "1        50.0        NaN      50  \n",
       "2         NaN     -30.00       0  \n",
       "3        30.0        NaN      30  \n",
       "4         NaN     -10.00       0  \n",
       "...       ...        ...     ...  \n",
       "3982      NaN        NaN     NaN  \n",
       "3983      NaN        NaN     NaN  \n",
       "3984      NaN        NaN     NaN  \n",
       "3985      NaN    -480.37  569.63  \n",
       "3986   1050.0        NaN    1050  \n",
       "\n",
       "[3987 rows x 7 columns]"
      ]
     },
     "execution_count": 9,
     "metadata": {},
     "output_type": "execute_result"
    }
   ],
   "source": [
    "df"
   ]
  },
  {
   "cell_type": "code",
   "execution_count": 10,
   "metadata": {},
   "outputs": [],
   "source": [
    "# Pivot the DataFrame to keep only selected columns\n",
    "df_pivoted = df[['Completion Time', 'Details', 'Paid In', 'Withdrawn']]"
   ]
  },
  {
   "cell_type": "code",
   "execution_count": 11,
   "metadata": {},
   "outputs": [
    {
     "data": {
      "text/html": [
       "<div>\n",
       "<style scoped>\n",
       "    .dataframe tbody tr th:only-of-type {\n",
       "        vertical-align: middle;\n",
       "    }\n",
       "\n",
       "    .dataframe tbody tr th {\n",
       "        vertical-align: top;\n",
       "    }\n",
       "\n",
       "    .dataframe thead th {\n",
       "        text-align: right;\n",
       "    }\n",
       "</style>\n",
       "<table border=\"1\" class=\"dataframe\">\n",
       "  <thead>\n",
       "    <tr style=\"text-align: right;\">\n",
       "      <th></th>\n",
       "      <th>Completion Time</th>\n",
       "      <th>Details</th>\n",
       "      <th>Paid In</th>\n",
       "      <th>Withdrawn</th>\n",
       "    </tr>\n",
       "  </thead>\n",
       "  <tbody>\n",
       "    <tr>\n",
       "      <th>0</th>\n",
       "      <td>2023-05-15 20:19:22</td>\n",
       "      <td>Customer Transfer Fuliza MPesato - 07******212...</td>\n",
       "      <td>NaN</td>\n",
       "      <td>-50.0</td>\n",
       "    </tr>\n",
       "    <tr>\n",
       "      <th>1</th>\n",
       "      <td>2023-05-15 20:19:22</td>\n",
       "      <td>OverDraft of Credit Party</td>\n",
       "      <td>50.0</td>\n",
       "      <td>NaN</td>\n",
       "    </tr>\n",
       "    <tr>\n",
       "      <th>2</th>\n",
       "      <td>2023-05-15 20:17:21</td>\n",
       "      <td>Merchant Payment Fuliza M-Pesato 7384394 - DAM...</td>\n",
       "      <td>NaN</td>\n",
       "      <td>-30.0</td>\n",
       "    </tr>\n",
       "    <tr>\n",
       "      <th>3</th>\n",
       "      <td>2023-05-15 20:17:21</td>\n",
       "      <td>OverDraft of Credit Party</td>\n",
       "      <td>30.0</td>\n",
       "      <td>NaN</td>\n",
       "    </tr>\n",
       "    <tr>\n",
       "      <th>4</th>\n",
       "      <td>2023-05-15 20:10:35</td>\n",
       "      <td>Customer Transfer Fuliza MPesato - 2547******5...</td>\n",
       "      <td>NaN</td>\n",
       "      <td>-10.0</td>\n",
       "    </tr>\n",
       "    <tr>\n",
       "      <th>5</th>\n",
       "      <td>2023-05-15 20:10:35</td>\n",
       "      <td>OverDraft of Credit Party</td>\n",
       "      <td>10.0</td>\n",
       "      <td>NaN</td>\n",
       "    </tr>\n",
       "    <tr>\n",
       "      <th>6</th>\n",
       "      <td>2023-05-15 20:05:47</td>\n",
       "      <td>Merchant Payment Fuliza M-Pesato 671957 - FISH...</td>\n",
       "      <td>NaN</td>\n",
       "      <td>-70.0</td>\n",
       "    </tr>\n",
       "    <tr>\n",
       "      <th>7</th>\n",
       "      <td>2023-05-15 20:05:47</td>\n",
       "      <td>OverDraft of Credit Party</td>\n",
       "      <td>70.0</td>\n",
       "      <td>NaN</td>\n",
       "    </tr>\n",
       "    <tr>\n",
       "      <th>8</th>\n",
       "      <td>2023-05-15 19:53:32</td>\n",
       "      <td>OD Loan Repayment to 232323 -M-PESA Overdraw</td>\n",
       "      <td>NaN</td>\n",
       "      <td>-150.0</td>\n",
       "    </tr>\n",
       "    <tr>\n",
       "      <th>9</th>\n",
       "      <td>2023-05-15 19:53:32</td>\n",
       "      <td>Funds received from -07******440 diana mugwe</td>\n",
       "      <td>150.0</td>\n",
       "      <td>NaN</td>\n",
       "    </tr>\n",
       "  </tbody>\n",
       "</table>\n",
       "</div>"
      ],
      "text/plain": [
       "       Completion Time                                            Details  \\\n",
       "0  2023-05-15 20:19:22  Customer Transfer Fuliza MPesato - 07******212...   \n",
       "1  2023-05-15 20:19:22                          OverDraft of Credit Party   \n",
       "2  2023-05-15 20:17:21  Merchant Payment Fuliza M-Pesato 7384394 - DAM...   \n",
       "3  2023-05-15 20:17:21                          OverDraft of Credit Party   \n",
       "4  2023-05-15 20:10:35  Customer Transfer Fuliza MPesato - 2547******5...   \n",
       "5  2023-05-15 20:10:35                          OverDraft of Credit Party   \n",
       "6  2023-05-15 20:05:47  Merchant Payment Fuliza M-Pesato 671957 - FISH...   \n",
       "7  2023-05-15 20:05:47                          OverDraft of Credit Party   \n",
       "8  2023-05-15 19:53:32       OD Loan Repayment to 232323 -M-PESA Overdraw   \n",
       "9  2023-05-15 19:53:32       Funds received from -07******440 diana mugwe   \n",
       "\n",
       "   Paid In  Withdrawn  \n",
       "0      NaN      -50.0  \n",
       "1     50.0        NaN  \n",
       "2      NaN      -30.0  \n",
       "3     30.0        NaN  \n",
       "4      NaN      -10.0  \n",
       "5     10.0        NaN  \n",
       "6      NaN      -70.0  \n",
       "7     70.0        NaN  \n",
       "8      NaN     -150.0  \n",
       "9    150.0        NaN  "
      ]
     },
     "execution_count": 11,
     "metadata": {},
     "output_type": "execute_result"
    }
   ],
   "source": [
    "df_pivoted.head(10)"
   ]
  },
  {
   "cell_type": "code",
   "execution_count": 12,
   "metadata": {},
   "outputs": [],
   "source": [
    "# Filter out rows with non-parsable 'Completion Time' values\n",
    "df_pivoted = df_pivoted[df_pivoted['Completion Time'].str.match(r'\\d{4}-\\d{2}-\\d{2} \\d{2}:\\d{2}:\\d{2}', na=False)]\n",
    "\n",
    "# Convert 'Completion Time' to datetime\n",
    "df_pivoted['Completion Time'] = pd.to_datetime(df_pivoted['Completion Time'], format='%Y-%m-%d %H:%M:%S')\n",
    "\n",
    "# Create the 'Transaction Month' column\n",
    "df_pivoted['Transaction Month'] = df_pivoted['Completion Time'].dt.strftime('%B')\n"
   ]
  },
  {
   "cell_type": "code",
   "execution_count": 13,
   "metadata": {},
   "outputs": [
    {
     "data": {
      "text/html": [
       "<div>\n",
       "<style scoped>\n",
       "    .dataframe tbody tr th:only-of-type {\n",
       "        vertical-align: middle;\n",
       "    }\n",
       "\n",
       "    .dataframe tbody tr th {\n",
       "        vertical-align: top;\n",
       "    }\n",
       "\n",
       "    .dataframe thead th {\n",
       "        text-align: right;\n",
       "    }\n",
       "</style>\n",
       "<table border=\"1\" class=\"dataframe\">\n",
       "  <thead>\n",
       "    <tr style=\"text-align: right;\">\n",
       "      <th></th>\n",
       "      <th>Completion Time</th>\n",
       "      <th>Details</th>\n",
       "      <th>Paid In</th>\n",
       "      <th>Withdrawn</th>\n",
       "      <th>Transaction Month</th>\n",
       "    </tr>\n",
       "  </thead>\n",
       "  <tbody>\n",
       "    <tr>\n",
       "      <th>0</th>\n",
       "      <td>2023-05-15 20:19:22</td>\n",
       "      <td>Customer Transfer Fuliza MPesato - 07******212...</td>\n",
       "      <td>NaN</td>\n",
       "      <td>-50.00</td>\n",
       "      <td>May</td>\n",
       "    </tr>\n",
       "    <tr>\n",
       "      <th>1</th>\n",
       "      <td>2023-05-15 20:19:22</td>\n",
       "      <td>OverDraft of Credit Party</td>\n",
       "      <td>50.00</td>\n",
       "      <td>NaN</td>\n",
       "      <td>May</td>\n",
       "    </tr>\n",
       "    <tr>\n",
       "      <th>2</th>\n",
       "      <td>2023-05-15 20:17:21</td>\n",
       "      <td>Merchant Payment Fuliza M-Pesato 7384394 - DAM...</td>\n",
       "      <td>NaN</td>\n",
       "      <td>-30.00</td>\n",
       "      <td>May</td>\n",
       "    </tr>\n",
       "    <tr>\n",
       "      <th>3</th>\n",
       "      <td>2023-05-15 20:17:21</td>\n",
       "      <td>OverDraft of Credit Party</td>\n",
       "      <td>30.00</td>\n",
       "      <td>NaN</td>\n",
       "      <td>May</td>\n",
       "    </tr>\n",
       "    <tr>\n",
       "      <th>4</th>\n",
       "      <td>2023-05-15 20:10:35</td>\n",
       "      <td>Customer Transfer Fuliza MPesato - 2547******5...</td>\n",
       "      <td>NaN</td>\n",
       "      <td>-10.00</td>\n",
       "      <td>May</td>\n",
       "    </tr>\n",
       "    <tr>\n",
       "      <th>...</th>\n",
       "      <td>...</td>\n",
       "      <td>...</td>\n",
       "      <td>...</td>\n",
       "      <td>...</td>\n",
       "      <td>...</td>\n",
       "    </tr>\n",
       "    <tr>\n",
       "      <th>3978</th>\n",
       "      <td>2022-05-16 14:19:25</td>\n",
       "      <td>Customer Transfer of FundsCharge</td>\n",
       "      <td>NaN</td>\n",
       "      <td>-12.00</td>\n",
       "      <td>May</td>\n",
       "    </tr>\n",
       "    <tr>\n",
       "      <th>3979</th>\n",
       "      <td>2022-05-16 14:19:25</td>\n",
       "      <td>Customer Transfer Fuliza MPesato - 2547******6...</td>\n",
       "      <td>NaN</td>\n",
       "      <td>-850.00</td>\n",
       "      <td>May</td>\n",
       "    </tr>\n",
       "    <tr>\n",
       "      <th>3980</th>\n",
       "      <td>2022-05-16 14:19:25</td>\n",
       "      <td>OverDraft of Credit Party</td>\n",
       "      <td>292.37</td>\n",
       "      <td>NaN</td>\n",
       "      <td>May</td>\n",
       "    </tr>\n",
       "    <tr>\n",
       "      <th>3985</th>\n",
       "      <td>2022-05-16 12:52:30</td>\n",
       "      <td>OD Loan Repayment to 232323 -M-PESA Overdraw</td>\n",
       "      <td>NaN</td>\n",
       "      <td>-480.37</td>\n",
       "      <td>May</td>\n",
       "    </tr>\n",
       "    <tr>\n",
       "      <th>3986</th>\n",
       "      <td>2022-05-16 12:52:29</td>\n",
       "      <td>Funds received from -07******245 daniel njeri</td>\n",
       "      <td>1050.00</td>\n",
       "      <td>NaN</td>\n",
       "      <td>May</td>\n",
       "    </tr>\n",
       "  </tbody>\n",
       "</table>\n",
       "<p>3635 rows × 5 columns</p>\n",
       "</div>"
      ],
      "text/plain": [
       "         Completion Time                                            Details  \\\n",
       "0    2023-05-15 20:19:22  Customer Transfer Fuliza MPesato - 07******212...   \n",
       "1    2023-05-15 20:19:22                          OverDraft of Credit Party   \n",
       "2    2023-05-15 20:17:21  Merchant Payment Fuliza M-Pesato 7384394 - DAM...   \n",
       "3    2023-05-15 20:17:21                          OverDraft of Credit Party   \n",
       "4    2023-05-15 20:10:35  Customer Transfer Fuliza MPesato - 2547******5...   \n",
       "...                  ...                                                ...   \n",
       "3978 2022-05-16 14:19:25                   Customer Transfer of FundsCharge   \n",
       "3979 2022-05-16 14:19:25  Customer Transfer Fuliza MPesato - 2547******6...   \n",
       "3980 2022-05-16 14:19:25                          OverDraft of Credit Party   \n",
       "3985 2022-05-16 12:52:30       OD Loan Repayment to 232323 -M-PESA Overdraw   \n",
       "3986 2022-05-16 12:52:29      Funds received from -07******245 daniel njeri   \n",
       "\n",
       "      Paid In  Withdrawn Transaction Month  \n",
       "0         NaN     -50.00               May  \n",
       "1       50.00        NaN               May  \n",
       "2         NaN     -30.00               May  \n",
       "3       30.00        NaN               May  \n",
       "4         NaN     -10.00               May  \n",
       "...       ...        ...               ...  \n",
       "3978      NaN     -12.00               May  \n",
       "3979      NaN    -850.00               May  \n",
       "3980   292.37        NaN               May  \n",
       "3985      NaN    -480.37               May  \n",
       "3986  1050.00        NaN               May  \n",
       "\n",
       "[3635 rows x 5 columns]"
      ]
     },
     "execution_count": 13,
     "metadata": {},
     "output_type": "execute_result"
    }
   ],
   "source": [
    "df_pivoted"
   ]
  },
  {
   "cell_type": "code",
   "execution_count": 14,
   "metadata": {},
   "outputs": [],
   "source": [
    "# Group by 'Transaction Month' and sum the 'Withdrawn' values, and assign it to a new column 'Monthly Total'\n",
    "df_pivoted['Monthly Total'] = df_pivoted.groupby('Transaction Month')['Withdrawn'].transform(lambda x: x.abs().sum())\n"
   ]
  },
  {
   "cell_type": "code",
   "execution_count": 15,
   "metadata": {},
   "outputs": [
    {
     "name": "stderr",
     "output_type": "stream",
     "text": [
      "/home/muregz/.local/lib/python3.11/site-packages/seaborn/_oldcore.py:1498: FutureWarning: is_categorical_dtype is deprecated and will be removed in a future version. Use isinstance(dtype, CategoricalDtype) instead\n",
      "  if pd.api.types.is_categorical_dtype(vector):\n",
      "/home/muregz/.local/lib/python3.11/site-packages/seaborn/_oldcore.py:1498: FutureWarning: is_categorical_dtype is deprecated and will be removed in a future version. Use isinstance(dtype, CategoricalDtype) instead\n",
      "  if pd.api.types.is_categorical_dtype(vector):\n",
      "/home/muregz/.local/lib/python3.11/site-packages/seaborn/_oldcore.py:1498: FutureWarning: is_categorical_dtype is deprecated and will be removed in a future version. Use isinstance(dtype, CategoricalDtype) instead\n",
      "  if pd.api.types.is_categorical_dtype(vector):\n"
     ]
    },
    {
     "data": {
      "image/png": "[encoded data removed]",
      "text/plain": [
       "<Figure size 1400x600 with 1 Axes>"
      ]
     },
     "metadata": {},
     "output_type": "display_data"
    }
   ],
   "source": [
    "#settingthe figure size\n",
    "plt.figure(figsize=(14, 6))\n",
    "\n",
    "# Plotting the data\n",
    "ax = sns.barplot(x='Transaction Month', y='Monthly Total', data=df_pivoted, color='black')\n",
    "\n",
    "# Annotating the barplot with values\n",
    "for p in ax.patches:\n",
    "    ax.annotate(f'KES {int(p.get_height()):,}', (p.get_x() + p.get_width() / 2., p.get_height()),\n",
    "                ha='center', va='bottom', fontsize=10, color='blue', xytext=(0, 5), textcoords='offset points')\n",
    "\n",
    "# Remove spines\n",
    "ax.spines['right'].set_visible(False)\n",
    "ax.spines['top'].set_visible(False)\n",
    "ax.spines['left'].set_visible(False)\n",
    "ax.spines['bottom'].set_visible(False)\n",
    "\n",
    "# Remove top and right ticks\n",
    "ax.get_xaxis().tick_bottom()\n",
    "ax.get_yaxis().tick_left()\n",
    "\n",
    "# Set y-axis label\n",
    "plt.ylabel('Amount', labelpad=20)\n",
    "\n",
    "# Set title\n",
    "plt.title('Monthly Spend')\n",
    "\n",
    "# Show plot\n",
    "plt.show()\n"
   ]
  },
  {
   "cell_type": "markdown",
   "metadata": {},
   "source": [
    "Haven't changed the month order because the dataset is from June 2022 to May 2023"
   ]
  },
  {
   "cell_type": "code",
   "execution_count": 16,
   "metadata": {},
   "outputs": [
    {
     "name": "stdout",
     "output_type": "stream",
     "text": [
      "Amount used to Purchase Electricity: 614.00\n"
     ]
    }
   ],
   "source": [
    "#calculating the amount of money spent on electricity\n",
    "\n",
    "#extracting rows where 'Details contains the word 'KPLC'\n",
    "electricity_keyword = 'KPLC'\n",
    "filtered_df = df_pivoted[df_pivoted['Details'].str.contains(electricity_keyword, case=False, na=False)]\n",
    "\n",
    "electricity = abs(filtered_df['Withdrawn'].sum())\n",
    "\n",
    "print(f'Amount used to Purchase Electricity: {electricity:.2f}')\n"
   ]
  },
  {
   "cell_type": "code",
   "execution_count": 17,
   "metadata": {},
   "outputs": [
    {
     "name": "stdout",
     "output_type": "stream",
     "text": [
      "Amount used to Pay Rent: 43,600.00\n"
     ]
    }
   ],
   "source": [
    "#calculating the amount of money spent on rent\n",
    "\n",
    "#extracting rows where 'Details\" contains the word 'raymond mbuvi'\n",
    "rent_keyword = ['Raymond Mbuvi', 'Cosmic', 'Pay Bill to 247247 - Equity Paybill Account Acc.0300196339189']\n",
    "filtered_df = df_pivoted[df_pivoted['Details'].str.contains('|'.join(rent_keyword), case=False, na=False)]\n",
    "\n",
    "rent = abs(filtered_df['Withdrawn'].sum())\n",
    "print(f'Amount used to Pay Rent: {rent:,.2f}')"
   ]
  },
  {
   "cell_type": "code",
   "execution_count": 18,
   "metadata": {},
   "outputs": [
    {
     "name": "stdout",
     "output_type": "stream",
     "text": [
      "Amount used to Purchase Airtime: 3,318.00\n"
     ]
    }
   ],
   "source": [
    "#calculating the amount used to buy airtime\n",
    "airtime_keyword = 'Airtime'\n",
    "\n",
    "filtered_df = df_pivoted[df_pivoted['Details'].str.contains(airtime_keyword, case=False, na=False)]\n",
    "\n",
    "airtime = abs(filtered_df['Withdrawn'].sum())\n",
    "\n",
    "print(f'Amount used to Purchase Airtime: {airtime:,.2f}')"
   ]
  },
  {
   "cell_type": "code",
   "execution_count": 19,
   "metadata": {},
   "outputs": [
    {
     "name": "stdout",
     "output_type": "stream",
     "text": [
      "Amount used to buy drugs: 55,745.00\n"
     ]
    }
   ],
   "source": [
    "#calculating the amount used to buy drugs\n",
    "drugs_keyword = ['Bar', 'Kapbrandy', 'Onsare', 'wines', 'Simba', 'Tamasha', 'pub', 'Maina', 'Muganda', 'Wambwa']\n",
    "filtered_df = df_pivoted[df_pivoted['Details'].str.contains('|'.join(drugs_keyword), case=False, na=False)]\n",
    "\n",
    "drugs = abs(filtered_df['Withdrawn'].sum())\n",
    "print(f'Amount used to buy drugs: {drugs:,.2f}')\n",
    "\n",
    "\n",
    "#calculating the amount used to buy drugs')"
   ]
  },
  {
   "cell_type": "code",
   "execution_count": 20,
   "metadata": {},
   "outputs": [
    {
     "name": "stdout",
     "output_type": "stream",
     "text": [
      "Amount used to Repay Fuliza: 104,549.00\n"
     ]
    }
   ],
   "source": [
    "#calculating the amount of money used to repay fuliza\n",
    "fuliza_keyword = 'Fuliza'\n",
    "\n",
    "filtered_df = df_pivoted[df_pivoted['Details'].str.contains(fuliza_keyword, case=False, na=False)]\n",
    "\n",
    "fuliza = abs(filtered_df['Withdrawn'].sum())\n",
    "print(f'Amount used to Repay Fuliza: {fuliza:,.2f}')"
   ]
  },
  {
   "cell_type": "code",
   "execution_count": 21,
   "metadata": {},
   "outputs": [
    {
     "name": "stdout",
     "output_type": "stream",
     "text": [
      "Withdrawn amount: 8,700.00\n"
     ]
    }
   ],
   "source": [
    "#calculating the amount of money withdrawn from an mpesa agent\n",
    "withdrawn_keyword = 'Customer Withdrawal At Agent'\n",
    "\n",
    "filtered_df = df_pivoted[df_pivoted['Details'].str.contains(withdrawn_keyword, case=False, na=False)]\n",
    "\n",
    "withdrawn_amount = abs(filtered_df['Withdrawn'].sum())\n",
    "print(f'Withdrawn amount: {withdrawn_amount:,.2f}')"
   ]
  },
  {
   "cell_type": "code",
   "execution_count": 22,
   "metadata": {},
   "outputs": [
    {
     "name": "stdout",
     "output_type": "stream",
     "text": [
      "Amount Transacted using Lipa na Mpesa: 146,451.00\n"
     ]
    }
   ],
   "source": [
    "#calculating the amount of money transacted through lipa na mpesa\n",
    "lipa_keyword = ['Merchant Payment', 'Pay Bill to', 'Customer Payment to', 'Pay Bill Online to']\n",
    "\n",
    "filtered_df = df_pivoted[df_pivoted['Details'].str.contains('|'.join(lipa_keyword), case=False, na=False)]\n",
    "\n",
    "lipa_na_mpesa = abs(filtered_df['Withdrawn'].sum())\n",
    "print(f'Amount Transacted using Lipa na Mpesa: {lipa_na_mpesa:,.2f}')"
   ]
  },
  {
   "cell_type": "code",
   "execution_count": 23,
   "metadata": {},
   "outputs": [
    {
     "name": "stdout",
     "output_type": "stream",
     "text": [
      "Pay Bill Charge: 772.00\n"
     ]
    }
   ],
   "source": [
    "#calculating the paybbill charge for the above transactions\n",
    "charge_keyword = 'Pay bill Charge'\n",
    "\n",
    "filtered_df = df_pivoted[df_pivoted['Details'].str.contains(charge_keyword, case=False, na=False)]\n",
    "\n",
    "paybill_charge = abs(filtered_df['Withdrawn'].sum())\n",
    "print(f'Pay Bill Charge: {paybill_charge:,.2f}')"
   ]
  },
  {
   "cell_type": "code",
   "execution_count": 24,
   "metadata": {},
   "outputs": [
    {
     "name": "stdout",
     "output_type": "stream",
     "text": [
      "Money Sent: 100,005.00\n"
     ]
    }
   ],
   "source": [
    "#calculating the amount of money transacted using send money\n",
    "send_keyword = 'Customer Transfer to'\n",
    "\n",
    "filtered_df = df_pivoted[df_pivoted['Details'].str.contains(send_keyword, case=False, na=False)]\n",
    "\n",
    "send_money = abs(filtered_df['Withdrawn'].sum())\n",
    "print(f'Money Sent: {send_money:,.2f}')"
   ]
  },
  {
   "cell_type": "code",
   "execution_count": 25,
   "metadata": {},
   "outputs": [
    {
     "name": "stdout",
     "output_type": "stream",
     "text": [
      "Total Transaction fees charged for Send Money: 1,722.00\n"
     ]
    }
   ],
   "source": [
    "#calculating the total amount charged for transacting using send money\n",
    "send_charge_keyword = 'Customer Transfer of Funds'\n",
    "\n",
    "filtered_df = df_pivoted[df_pivoted['Details'].str.contains(send_charge_keyword, case=False, na=False)]\n",
    "\n",
    "send_money_charge = abs(filtered_df['Withdrawn'].sum())\n",
    "\n",
    "print(f'Total Transaction fees charged for Send Money: {send_money_charge:,.2f}')"
   ]
  },
  {
   "cell_type": "code",
   "execution_count": 26,
   "metadata": {},
   "outputs": [
    {
     "name": "stdout",
     "output_type": "stream",
     "text": [
      "Total Amount received via Send Money 126,337.00\n"
     ]
    }
   ],
   "source": [
    "#calculating the total amount received via send money\n",
    "received_keyword = 'Funds received from'\n",
    "\n",
    "filtered_df = df_pivoted[df_pivoted['Details'].str.contains(received_keyword, case=False, na=False)]\n",
    "\n",
    "total_received = filtered_df['Paid In'].sum()\n",
    "\n",
    "print(f'Total Amount received via Send Money {total_received:,.2f}')"
   ]
  },
  {
   "cell_type": "code",
   "execution_count": 27,
   "metadata": {},
   "outputs": [
    {
     "name": "stdout",
     "output_type": "stream",
     "text": [
      "Total amount received via international transfer: 186,395.00\n"
     ]
    }
   ],
   "source": [
    "#calculating the total amount received via international transfer\n",
    "received_international_keyword = ['sendwave', 'chime']\n",
    "\n",
    "filtered_df = df_pivoted[df_pivoted['Details'].str.contains('|'.join(received_international_keyword), case=False, na=False)]\n",
    "international_transfer = filtered_df['Paid In'].sum()\n",
    "\n",
    "print('Total amount received via international transfer: {:,.2f}'.format(international_transfer))"
   ]
  },
  {
   "cell_type": "code",
   "execution_count": 29,
   "metadata": {},
   "outputs": [],
   "source": [
    "df_pivoted['Withdrawn'] = abs(df_pivoted['Withdrawn'])"
   ]
  },
  {
   "cell_type": "code",
   "execution_count": 30,
   "metadata": {},
   "outputs": [],
   "source": [
    "df_pivoted.to_csv('mpesa.csv')"
   ]
  },
  {
   "cell_type": "code",
   "execution_count": 33,
   "metadata": {},
   "outputs": [
    {
     "data": {
      "text/html": [
       "<div>\n",
       "<style scoped>\n",
       "    .dataframe tbody tr th:only-of-type {\n",
       "        vertical-align: middle;\n",
       "    }\n",
       "\n",
       "    .dataframe tbody tr th {\n",
       "        vertical-align: top;\n",
       "    }\n",
       "\n",
       "    .dataframe thead th {\n",
       "        text-align: right;\n",
       "    }\n",
       "</style>\n",
       "<table border=\"1\" class=\"dataframe\">\n",
       "  <thead>\n",
       "    <tr style=\"text-align: right;\">\n",
       "      <th></th>\n",
       "      <th>Rent</th>\n",
       "      <th>Fuliza</th>\n",
       "      <th>Airtime</th>\n",
       "      <th>Drugs</th>\n",
       "      <th>Electricity</th>\n",
       "    </tr>\n",
       "  </thead>\n",
       "  <tbody>\n",
       "    <tr>\n",
       "      <th>0</th>\n",
       "      <td>43600.0</td>\n",
       "      <td>104549.0</td>\n",
       "      <td>3318.0</td>\n",
       "      <td>55745.0</td>\n",
       "      <td>614.0</td>\n",
       "    </tr>\n",
       "  </tbody>\n",
       "</table>\n",
       "</div>"
      ],
      "text/plain": [
       "      Rent    Fuliza  Airtime    Drugs  Electricity\n",
       "0  43600.0  104549.0   3318.0  55745.0        614.0"
      ]
     },
     "execution_count": 33,
     "metadata": {},
     "output_type": "execute_result"
    }
   ],
   "source": [
    "data = {\"Rent\":[rent], \"Fuliza\": [fuliza], \"Airtime\": [airtime], \"Drugs\": [drugs], \"Electricity\": [electricity]}\n",
    "\n",
    "\n",
    "new_df = pd.DataFrame(data)\n",
    "\n",
    "new_df"
   ]
  },
  {
   "cell_type": "code",
   "execution_count": 34,
   "metadata": {},
   "outputs": [],
   "source": [
    "new_df.to_csv('usage.csv')"
   ]
  },
  {
   "cell_type": "code",
   "execution_count": 35,
   "metadata": {},
   "outputs": [],
   "source": [
    "import pandas as pd\n",
    "means_data = {\"Send Money\": [send_money], \"Lipa na Mpesa\": [lipa_na_mpesa], \"Money Received\": [total_received], \"International Transfer\": [international_transfer], \"Withdrawn Amount\": [withdrawn_amount]}\n",
    "means_df = pd.DataFrame(means_data)\n",
    "means_df.to_csv(\"means.csv\")"
   ]
  },
  {
   "cell_type": "markdown",
   "metadata": {},
   "source": []
  }
 ],
 "metadata": {
  "kernelspec": {
   "display_name": "Python 3 (ipykernel)",
   "language": "python",
   "name": "python3"
  },
  "language_info": {
   "codemirror_mode": {
    "name": "ipython",
    "version": 3
   },
   "file_extension": ".py",
   "mimetype": "text/x-python",
   "name": "python",
   "nbconvert_exporter": "python",
   "pygments_lexer": "ipython3",
   "version": "3.11.4"
  }
 },
 "nbformat": 4,
 "nbformat_minor": 2
}
