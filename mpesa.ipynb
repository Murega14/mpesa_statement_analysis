{
 "cells": [
  {
   "cell_type": "code",
   "execution_count": 1,
   "metadata": {},
   "outputs": [],
   "source": [
    "#importing libraries\n",
    "import pandas as pd\n",
    "import sqlite3\n",
    "import matplotlib\n",
    "import seaborn"
   ]
  },
  {
   "cell_type": "code",
   "execution_count": 2,
   "metadata": {},
   "outputs": [],
   "source": [
    "#configuring mysql into jupyter\n",
    "%load_ext sql\n",
    "%config SqlMagic.autopandas=True"
   ]
  },
  {
   "cell_type": "code",
   "execution_count": 2,
   "metadata": {},
   "outputs": [
    {
     "name": "stdout",
     "output_type": "stream",
     "text": [
      "                      Receipt No.  \\\n",
      "0                      REF8MUC88I   \n",
      "1                      REF8MUC88I   \n",
      "2                      REF9MU2IWF   \n",
      "3                      REF9MU2IWF   \n",
      "4                      REF7MT5G7N   \n",
      "...                           ...   \n",
      "3985                   QEG03RDEQM   \n",
      "3986                   QEG23RDHRU   \n",
      "3987  Statement Verification Code   \n",
      "3988                          NaN   \n",
      "3989                     KZ3FXNRZ   \n",
      "\n",
      "                                        Completion Time  \\\n",
      "0                                   2023-05-15 20:19:22   \n",
      "1                                   2023-05-15 20:19:22   \n",
      "2                                   2023-05-15 20:17:21   \n",
      "3                                   2023-05-15 20:17:21   \n",
      "4                                   2023-05-15 20:10:35   \n",
      "...                                                 ...   \n",
      "3985                                2022-05-16 12:52:30   \n",
      "3986                                2022-05-16 12:52:29   \n",
      "3987  To verify the validity of this M-PESA statemen...   \n",
      "3988                                                NaN   \n",
      "3989                                                NaN   \n",
      "\n",
      "                                                Details Transaction Status  \\\n",
      "0     Customer Transfer Fuliza MPesato - 07******212...          Completed   \n",
      "1                             OverDraft of Credit Party          Completed   \n",
      "2     Merchant Payment Fuliza M-Pesato 7384394 - DAM...          Completed   \n",
      "3                             OverDraft of Credit Party          Completed   \n",
      "4     Customer Transfer Fuliza MPesato - 2547******5...          Completed   \n",
      "...                                                 ...                ...   \n",
      "3985       OD Loan Repayment to 232323 -M-PESA Overdraw          Completed   \n",
      "3986      Funds received from -07******245 daniel njeri          Completed   \n",
      "3987                                                NaN                NaN   \n",
      "3988                                                NaN                NaN   \n",
      "3989                                                NaN                NaN   \n",
      "\n",
      "     Paid In Withdrawn Balance  \n",
      "0        NaN       -50       0  \n",
      "1         50       NaN      50  \n",
      "2        NaN       -30       0  \n",
      "3         30       NaN      30  \n",
      "4        NaN       -10       0  \n",
      "...      ...       ...     ...  \n",
      "3985     NaN   -480.37  569.63  \n",
      "3986    1050       NaN    1050  \n",
      "3987     NaN       NaN     NaN  \n",
      "3988     NaN       NaN     NaN  \n",
      "3989     NaN       NaN     NaN  \n",
      "\n",
      "[3990 rows x 7 columns]\n"
     ]
    }
   ],
   "source": [
    "#converting the statement PDF file to a data frame\n",
    "import tabula\n",
    "\n",
    "#path to the PDF file\n",
    "pdf_path = \"/home/muregz/data_analysis/mpesa_statement_analysis/mpesa_statement.pdf\"\n",
    "\n",
    "# password to unlock the PDF file\n",
    "password = \"900365\"\n",
    "\n",
    "# options for the PDF extraction\n",
    "options = {\n",
    "    \"pages\": \"all\",        # Extracting data from all the pages\n",
    "    \"password\": password   # password to unlock the PDF\n",
    "}\n",
    "\n",
    "# read tables from a PDF file and save them as CSV files\n",
    "#tabula.convert_into('/home/muregz/data_analysis/mpesa_statement_analysis/mpesa_statement.pdf', 'mpesa_statement.csv', output_format='csv', **options)\n",
    "\n",
    "#had initially converted to a csv file\n",
    "#changed it to an excel file to load the data better into a database table\n",
    "#.ods is the same as .xlsx\n",
    "\n",
    "df = pd.read_excel('/home/muregz/data_analysis/mpesa_statement_analysis/mpesa_statement.ods')\n",
    "\n",
    "#dropping the unnamed column\n",
    "#df = df.drop('Unnamed', axis=1)\n",
    "\n",
    "# Print the extracted data\n",
    "print(df)\n"
   ]
  },
  {
   "cell_type": "code",
   "execution_count": 4,
   "metadata": {},
   "outputs": [],
   "source": [
    "#creating a local database to store the data\n",
    "conn = sqlite3.connect('mpesa_statement_database')\n",
    "c = conn.cursor()\n",
    "\n",
    "c.execute('''CREATE TABLE IF NOT EXISTS mpesa (\n",
    "    `Receipt No.` VARCHAR,\n",
    "    `Completion Time` DATETIME,\n",
    "    Details VARCHAR,\n",
    "    `Transaction Status` VARCHAR,\n",
    "    `Paid In` INT,\n",
    "    Withdrawn INT,\n",
    "    Balance INT\n",
    ")\n",
    "''')\n",
    "conn.commit()"
   ]
  },
  {
   "cell_type": "code",
   "execution_count": 5,
   "metadata": {},
   "outputs": [
    {
     "data": {
      "text/plain": [
       "3990"
      ]
     },
     "execution_count": 5,
     "metadata": {},
     "output_type": "execute_result"
    }
   ],
   "source": [
    "df.to_sql('mpesa', conn, if_exists='replace', index = False)"
   ]
  },
  {
   "cell_type": "code",
   "execution_count": 6,
   "metadata": {},
   "outputs": [],
   "source": [
    "import os\n",
    "from sqlalchemy import create_engine\n",
    "# Construct the connection URL\n",
    "db_url = f\"sqlite:///{os.path.abspath('/home/muregz/data_analysis/mpesa_statement_analysis/mpesa_statement_database')}\"\n",
    "\n",
    "# Set the DATABASE_URL environment variable\n",
    "os.environ['DATABASE_URL'] = db_url\n",
    "\n",
    "# Create a database engine\n",
    "engine = create_engine(os.environ['DATABASE_URL'])"
   ]
  },
  {
   "cell_type": "code",
   "execution_count": 7,
   "metadata": {},
   "outputs": [
    {
     "name": "stdout",
     "output_type": "stream",
     "text": [
      "Done.\n"
     ]
    },
    {
     "data": {
      "text/html": [
       "<div>\n",
       "<style scoped>\n",
       "    .dataframe tbody tr th:only-of-type {\n",
       "        vertical-align: middle;\n",
       "    }\n",
       "\n",
       "    .dataframe tbody tr th {\n",
       "        vertical-align: top;\n",
       "    }\n",
       "\n",
       "    .dataframe thead th {\n",
       "        text-align: right;\n",
       "    }\n",
       "</style>\n",
       "<table border=\"1\" class=\"dataframe\">\n",
       "  <thead>\n",
       "    <tr style=\"text-align: right;\">\n",
       "      <th></th>\n",
       "      <th>Receipt No.</th>\n",
       "      <th>Completion Time</th>\n",
       "      <th>Details</th>\n",
       "      <th>Transaction Status</th>\n",
       "      <th>Paid In</th>\n",
       "      <th>Withdrawn</th>\n",
       "      <th>Balance</th>\n",
       "    </tr>\n",
       "  </thead>\n",
       "  <tbody>\n",
       "    <tr>\n",
       "      <th>0</th>\n",
       "      <td>REF8MUC88I</td>\n",
       "      <td>2023-05-15 20:19:22</td>\n",
       "      <td>Customer Transfer Fuliza MPesato - 07******212...</td>\n",
       "      <td>Completed</td>\n",
       "      <td>None</td>\n",
       "      <td>-50</td>\n",
       "      <td>0</td>\n",
       "    </tr>\n",
       "    <tr>\n",
       "      <th>1</th>\n",
       "      <td>REF8MUC88I</td>\n",
       "      <td>2023-05-15 20:19:22</td>\n",
       "      <td>OverDraft of Credit Party</td>\n",
       "      <td>Completed</td>\n",
       "      <td>50</td>\n",
       "      <td>None</td>\n",
       "      <td>50</td>\n",
       "    </tr>\n",
       "    <tr>\n",
       "      <th>2</th>\n",
       "      <td>REF9MU2IWF</td>\n",
       "      <td>2023-05-15 20:17:21</td>\n",
       "      <td>Merchant Payment Fuliza M-Pesato 7384394 - DAM...</td>\n",
       "      <td>Completed</td>\n",
       "      <td>None</td>\n",
       "      <td>-30</td>\n",
       "      <td>0</td>\n",
       "    </tr>\n",
       "    <tr>\n",
       "      <th>3</th>\n",
       "      <td>REF9MU2IWF</td>\n",
       "      <td>2023-05-15 20:17:21</td>\n",
       "      <td>OverDraft of Credit Party</td>\n",
       "      <td>Completed</td>\n",
       "      <td>30</td>\n",
       "      <td>None</td>\n",
       "      <td>30</td>\n",
       "    </tr>\n",
       "    <tr>\n",
       "      <th>4</th>\n",
       "      <td>REF7MT5G7N</td>\n",
       "      <td>2023-05-15 20:10:35</td>\n",
       "      <td>Customer Transfer Fuliza MPesato - 2547******5...</td>\n",
       "      <td>Completed</td>\n",
       "      <td>None</td>\n",
       "      <td>-10</td>\n",
       "      <td>0</td>\n",
       "    </tr>\n",
       "    <tr>\n",
       "      <th>...</th>\n",
       "      <td>...</td>\n",
       "      <td>...</td>\n",
       "      <td>...</td>\n",
       "      <td>...</td>\n",
       "      <td>...</td>\n",
       "      <td>...</td>\n",
       "      <td>...</td>\n",
       "    </tr>\n",
       "    <tr>\n",
       "      <th>3985</th>\n",
       "      <td>QEG03RDEQM</td>\n",
       "      <td>2022-05-16 12:52:30</td>\n",
       "      <td>OD Loan Repayment to 232323 -M-PESA Overdraw</td>\n",
       "      <td>Completed</td>\n",
       "      <td>None</td>\n",
       "      <td>-480.37</td>\n",
       "      <td>569.63</td>\n",
       "    </tr>\n",
       "    <tr>\n",
       "      <th>3986</th>\n",
       "      <td>QEG23RDHRU</td>\n",
       "      <td>2022-05-16 12:52:29</td>\n",
       "      <td>Funds received from -07******245 daniel njeri</td>\n",
       "      <td>Completed</td>\n",
       "      <td>1050</td>\n",
       "      <td>None</td>\n",
       "      <td>1050</td>\n",
       "    </tr>\n",
       "    <tr>\n",
       "      <th>3987</th>\n",
       "      <td>Statement Verification Code</td>\n",
       "      <td>To verify the validity of this M-PESA statemen...</td>\n",
       "      <td>None</td>\n",
       "      <td>None</td>\n",
       "      <td>None</td>\n",
       "      <td>None</td>\n",
       "      <td>None</td>\n",
       "    </tr>\n",
       "    <tr>\n",
       "      <th>3988</th>\n",
       "      <td>None</td>\n",
       "      <td>None</td>\n",
       "      <td>None</td>\n",
       "      <td>None</td>\n",
       "      <td>None</td>\n",
       "      <td>None</td>\n",
       "      <td>None</td>\n",
       "    </tr>\n",
       "    <tr>\n",
       "      <th>3989</th>\n",
       "      <td>KZ3FXNRZ</td>\n",
       "      <td>None</td>\n",
       "      <td>None</td>\n",
       "      <td>None</td>\n",
       "      <td>None</td>\n",
       "      <td>None</td>\n",
       "      <td>None</td>\n",
       "    </tr>\n",
       "  </tbody>\n",
       "</table>\n",
       "<p>3990 rows × 7 columns</p>\n",
       "</div>"
      ],
      "text/plain": [
       "                      Receipt No.  \\\n",
       "0                      REF8MUC88I   \n",
       "1                      REF8MUC88I   \n",
       "2                      REF9MU2IWF   \n",
       "3                      REF9MU2IWF   \n",
       "4                      REF7MT5G7N   \n",
       "...                           ...   \n",
       "3985                   QEG03RDEQM   \n",
       "3986                   QEG23RDHRU   \n",
       "3987  Statement Verification Code   \n",
       "3988                         None   \n",
       "3989                     KZ3FXNRZ   \n",
       "\n",
       "                                        Completion Time  \\\n",
       "0                                   2023-05-15 20:19:22   \n",
       "1                                   2023-05-15 20:19:22   \n",
       "2                                   2023-05-15 20:17:21   \n",
       "3                                   2023-05-15 20:17:21   \n",
       "4                                   2023-05-15 20:10:35   \n",
       "...                                                 ...   \n",
       "3985                                2022-05-16 12:52:30   \n",
       "3986                                2022-05-16 12:52:29   \n",
       "3987  To verify the validity of this M-PESA statemen...   \n",
       "3988                                               None   \n",
       "3989                                               None   \n",
       "\n",
       "                                                Details Transaction Status  \\\n",
       "0     Customer Transfer Fuliza MPesato - 07******212...          Completed   \n",
       "1                             OverDraft of Credit Party          Completed   \n",
       "2     Merchant Payment Fuliza M-Pesato 7384394 - DAM...          Completed   \n",
       "3                             OverDraft of Credit Party          Completed   \n",
       "4     Customer Transfer Fuliza MPesato - 2547******5...          Completed   \n",
       "...                                                 ...                ...   \n",
       "3985       OD Loan Repayment to 232323 -M-PESA Overdraw          Completed   \n",
       "3986      Funds received from -07******245 daniel njeri          Completed   \n",
       "3987                                               None               None   \n",
       "3988                                               None               None   \n",
       "3989                                               None               None   \n",
       "\n",
       "     Paid In Withdrawn Balance  \n",
       "0       None       -50       0  \n",
       "1         50      None      50  \n",
       "2       None       -30       0  \n",
       "3         30      None      30  \n",
       "4       None       -10       0  \n",
       "...      ...       ...     ...  \n",
       "3985    None   -480.37  569.63  \n",
       "3986    1050      None    1050  \n",
       "3987    None      None    None  \n",
       "3988    None      None    None  \n",
       "3989    None      None    None  \n",
       "\n",
       "[3990 rows x 7 columns]"
      ]
     },
     "execution_count": 7,
     "metadata": {},
     "output_type": "execute_result"
    }
   ],
   "source": [
    "%%sql\n",
    "SELECT * FROM mpesa;"
   ]
  },
  {
   "cell_type": "code",
   "execution_count": 8,
   "metadata": {},
   "outputs": [
    {
     "data": {
      "text/html": [
       "<div>\n",
       "<style scoped>\n",
       "    .dataframe tbody tr th:only-of-type {\n",
       "        vertical-align: middle;\n",
       "    }\n",
       "\n",
       "    .dataframe tbody tr th {\n",
       "        vertical-align: top;\n",
       "    }\n",
       "\n",
       "    .dataframe thead th {\n",
       "        text-align: right;\n",
       "    }\n",
       "</style>\n",
       "<table border=\"1\" class=\"dataframe\">\n",
       "  <thead>\n",
       "    <tr style=\"text-align: right;\">\n",
       "      <th></th>\n",
       "      <th>Receipt No.</th>\n",
       "      <th>Completion Time</th>\n",
       "      <th>Details</th>\n",
       "      <th>Transaction Status</th>\n",
       "      <th>Paid In</th>\n",
       "      <th>Withdrawn</th>\n",
       "      <th>Balance</th>\n",
       "    </tr>\n",
       "  </thead>\n",
       "  <tbody>\n",
       "    <tr>\n",
       "      <th>0</th>\n",
       "      <td>REF8MUC88I</td>\n",
       "      <td>2023-05-15 20:19:22</td>\n",
       "      <td>Customer Transfer Fuliza MPesato - 07******212...</td>\n",
       "      <td>Completed</td>\n",
       "      <td>NaN</td>\n",
       "      <td>-50</td>\n",
       "      <td>0</td>\n",
       "    </tr>\n",
       "    <tr>\n",
       "      <th>1</th>\n",
       "      <td>REF8MUC88I</td>\n",
       "      <td>2023-05-15 20:19:22</td>\n",
       "      <td>OverDraft of Credit Party</td>\n",
       "      <td>Completed</td>\n",
       "      <td>50</td>\n",
       "      <td>NaN</td>\n",
       "      <td>50</td>\n",
       "    </tr>\n",
       "    <tr>\n",
       "      <th>2</th>\n",
       "      <td>REF9MU2IWF</td>\n",
       "      <td>2023-05-15 20:17:21</td>\n",
       "      <td>Merchant Payment Fuliza M-Pesato 7384394 - DAM...</td>\n",
       "      <td>Completed</td>\n",
       "      <td>NaN</td>\n",
       "      <td>-30</td>\n",
       "      <td>0</td>\n",
       "    </tr>\n",
       "    <tr>\n",
       "      <th>3</th>\n",
       "      <td>REF9MU2IWF</td>\n",
       "      <td>2023-05-15 20:17:21</td>\n",
       "      <td>OverDraft of Credit Party</td>\n",
       "      <td>Completed</td>\n",
       "      <td>30</td>\n",
       "      <td>NaN</td>\n",
       "      <td>30</td>\n",
       "    </tr>\n",
       "    <tr>\n",
       "      <th>4</th>\n",
       "      <td>REF7MT5G7N</td>\n",
       "      <td>2023-05-15 20:10:35</td>\n",
       "      <td>Customer Transfer Fuliza MPesato - 2547******5...</td>\n",
       "      <td>Completed</td>\n",
       "      <td>NaN</td>\n",
       "      <td>-10</td>\n",
       "      <td>0</td>\n",
       "    </tr>\n",
       "    <tr>\n",
       "      <th>5</th>\n",
       "      <td>REF7MT5G7N</td>\n",
       "      <td>2023-05-15 20:10:35</td>\n",
       "      <td>OverDraft of Credit Party</td>\n",
       "      <td>Completed</td>\n",
       "      <td>10</td>\n",
       "      <td>NaN</td>\n",
       "      <td>10</td>\n",
       "    </tr>\n",
       "    <tr>\n",
       "      <th>6</th>\n",
       "      <td>REF6MSH7KM</td>\n",
       "      <td>2023-05-15 20:05:47</td>\n",
       "      <td>Merchant Payment Fuliza M-Pesato 671957 - FISH...</td>\n",
       "      <td>Completed</td>\n",
       "      <td>NaN</td>\n",
       "      <td>-70</td>\n",
       "      <td>0</td>\n",
       "    </tr>\n",
       "    <tr>\n",
       "      <th>7</th>\n",
       "      <td>REF6MSH7KM</td>\n",
       "      <td>2023-05-15 20:05:47</td>\n",
       "      <td>OverDraft of Credit Party</td>\n",
       "      <td>Completed</td>\n",
       "      <td>70</td>\n",
       "      <td>NaN</td>\n",
       "      <td>70</td>\n",
       "    </tr>\n",
       "    <tr>\n",
       "      <th>8</th>\n",
       "      <td>REF5MQQC5T</td>\n",
       "      <td>2023-05-15 19:53:32</td>\n",
       "      <td>OD Loan Repayment to 232323 -M-PESA Overdraw</td>\n",
       "      <td>Completed</td>\n",
       "      <td>NaN</td>\n",
       "      <td>-150</td>\n",
       "      <td>0</td>\n",
       "    </tr>\n",
       "    <tr>\n",
       "      <th>9</th>\n",
       "      <td>REF0MQQ2C2</td>\n",
       "      <td>2023-05-15 19:53:32</td>\n",
       "      <td>Funds received from -07******440 diana mugwe</td>\n",
       "      <td>Completed</td>\n",
       "      <td>150</td>\n",
       "      <td>NaN</td>\n",
       "      <td>150</td>\n",
       "    </tr>\n",
       "  </tbody>\n",
       "</table>\n",
       "</div>"
      ],
      "text/plain": [
       "  Receipt No.      Completion Time  \\\n",
       "0  REF8MUC88I  2023-05-15 20:19:22   \n",
       "1  REF8MUC88I  2023-05-15 20:19:22   \n",
       "2  REF9MU2IWF  2023-05-15 20:17:21   \n",
       "3  REF9MU2IWF  2023-05-15 20:17:21   \n",
       "4  REF7MT5G7N  2023-05-15 20:10:35   \n",
       "5  REF7MT5G7N  2023-05-15 20:10:35   \n",
       "6  REF6MSH7KM  2023-05-15 20:05:47   \n",
       "7  REF6MSH7KM  2023-05-15 20:05:47   \n",
       "8  REF5MQQC5T  2023-05-15 19:53:32   \n",
       "9  REF0MQQ2C2  2023-05-15 19:53:32   \n",
       "\n",
       "                                             Details Transaction Status  \\\n",
       "0  Customer Transfer Fuliza MPesato - 07******212...          Completed   \n",
       "1                          OverDraft of Credit Party          Completed   \n",
       "2  Merchant Payment Fuliza M-Pesato 7384394 - DAM...          Completed   \n",
       "3                          OverDraft of Credit Party          Completed   \n",
       "4  Customer Transfer Fuliza MPesato - 2547******5...          Completed   \n",
       "5                          OverDraft of Credit Party          Completed   \n",
       "6  Merchant Payment Fuliza M-Pesato 671957 - FISH...          Completed   \n",
       "7                          OverDraft of Credit Party          Completed   \n",
       "8       OD Loan Repayment to 232323 -M-PESA Overdraw          Completed   \n",
       "9       Funds received from -07******440 diana mugwe          Completed   \n",
       "\n",
       "  Paid In Withdrawn Balance  \n",
       "0     NaN       -50       0  \n",
       "1      50       NaN      50  \n",
       "2     NaN       -30       0  \n",
       "3      30       NaN      30  \n",
       "4     NaN       -10       0  \n",
       "5      10       NaN      10  \n",
       "6     NaN       -70       0  \n",
       "7      70       NaN      70  \n",
       "8     NaN      -150       0  \n",
       "9     150       NaN     150  "
      ]
     },
     "execution_count": 8,
     "metadata": {},
     "output_type": "execute_result"
    }
   ],
   "source": [
    "df.head(10)"
   ]
  },
  {
   "attachments": {},
   "cell_type": "markdown",
   "metadata": {},
   "source": [
    "**Showing the number of times i used fuliza in the past year**"
   ]
  },
  {
   "cell_type": "code",
   "execution_count": 9,
   "metadata": {},
   "outputs": [
    {
     "name": "stdout",
     "output_type": "stream",
     "text": [
      " * sqlite:////home/muregz/data_analysis/mpesa_statement_analysis/mpesa_statement_database\n",
      "Done.\n"
     ]
    },
    {
     "data": {
      "text/html": [
       "<div>\n",
       "<style scoped>\n",
       "    .dataframe tbody tr th:only-of-type {\n",
       "        vertical-align: middle;\n",
       "    }\n",
       "\n",
       "    .dataframe tbody tr th {\n",
       "        vertical-align: top;\n",
       "    }\n",
       "\n",
       "    .dataframe thead th {\n",
       "        text-align: right;\n",
       "    }\n",
       "</style>\n",
       "<table border=\"1\" class=\"dataframe\">\n",
       "  <thead>\n",
       "    <tr style=\"text-align: right;\">\n",
       "      <th></th>\n",
       "      <th>Number of Times used Fuliza</th>\n",
       "      <th>Total Amount Used</th>\n",
       "    </tr>\n",
       "  </thead>\n",
       "  <tbody>\n",
       "    <tr>\n",
       "      <th>0</th>\n",
       "      <td>924</td>\n",
       "      <td>68083.82</td>\n",
       "    </tr>\n",
       "  </tbody>\n",
       "</table>\n",
       "</div>"
      ],
      "text/plain": [
       "   Number of Times used Fuliza  Total Amount Used\n",
       "0                          924           68083.82"
      ]
     },
     "execution_count": 9,
     "metadata": {},
     "output_type": "execute_result"
    }
   ],
   "source": [
    "%%sql\n",
    "SELECT COUNT(Details) AS `Number of Times used Fuliza`, SUM(ABS(`Paid In`)) AS `Total Amount Used`\n",
    "FROM mpesa WHERE Details\n",
    "LIKE '%Overdraft%';"
   ]
  },
  {
   "cell_type": "code",
   "execution_count": 10,
   "metadata": {},
   "outputs": [
    {
     "name": "stdout",
     "output_type": "stream",
     "text": [
      "68083.81999999999\n"
     ]
    }
   ],
   "source": [
    "df = df.dropna(subset=['Details', 'Paid In'])\n",
    "total = df.loc[df['Details'].str.contains('overdraft', case=False), 'Paid In'].sum()\n",
    "\n",
    "print(total)\n"
   ]
  },
  {
   "attachments": {},
   "cell_type": "markdown",
   "metadata": {},
   "source": [
    "**showing the number of times fuliza was used to pay for alcohol**"
   ]
  },
  {
   "cell_type": "code",
   "execution_count": 11,
   "metadata": {},
   "outputs": [
    {
     "name": "stdout",
     "output_type": "stream",
     "text": [
      " * sqlite:////home/muregz/data_analysis/mpesa_statement_analysis/mpesa_statement_database\n",
      "Done.\n"
     ]
    },
    {
     "data": {
      "text/html": [
       "<div>\n",
       "<style scoped>\n",
       "    .dataframe tbody tr th:only-of-type {\n",
       "        vertical-align: middle;\n",
       "    }\n",
       "\n",
       "    .dataframe tbody tr th {\n",
       "        vertical-align: top;\n",
       "    }\n",
       "\n",
       "    .dataframe thead th {\n",
       "        text-align: right;\n",
       "    }\n",
       "</style>\n",
       "<table border=\"1\" class=\"dataframe\">\n",
       "  <thead>\n",
       "    <tr style=\"text-align: right;\">\n",
       "      <th></th>\n",
       "      <th>Number of times</th>\n",
       "      <th>Total amount used</th>\n",
       "    </tr>\n",
       "  </thead>\n",
       "  <tbody>\n",
       "    <tr>\n",
       "      <th>0</th>\n",
       "      <td>88</td>\n",
       "      <td>26226.0</td>\n",
       "    </tr>\n",
       "  </tbody>\n",
       "</table>\n",
       "</div>"
      ],
      "text/plain": [
       "   Number of times  Total amount used\n",
       "0               88            26226.0"
      ]
     },
     "execution_count": 11,
     "metadata": {},
     "output_type": "execute_result"
    }
   ],
   "source": [
    "%%sql\n",
    "SELECT COUNT(Details) AS 'Number of times',\n",
    "SUM(ABS(Withdrawn)) AS `Total amount used`\n",
    "FROM mpesa WHERE Details\n",
    "LIKE '%Fuliza%' AND Details LIKE '%WINES%' OR Details LIKE '%Onsare%' OR Details LIKE '%Bar%';"
   ]
  },
  {
   "cell_type": "code",
   "execution_count": 12,
   "metadata": {},
   "outputs": [
    {
     "name": "stdout",
     "output_type": "stream",
     "text": [
      " * sqlite:////home/muregz/data_analysis/mpesa_statement_analysis/mpesa_statement_database\n",
      "Done.\n"
     ]
    },
    {
     "data": {
      "text/html": [
       "<div>\n",
       "<style scoped>\n",
       "    .dataframe tbody tr th:only-of-type {\n",
       "        vertical-align: middle;\n",
       "    }\n",
       "\n",
       "    .dataframe tbody tr th {\n",
       "        vertical-align: top;\n",
       "    }\n",
       "\n",
       "    .dataframe thead th {\n",
       "        text-align: right;\n",
       "    }\n",
       "</style>\n",
       "<table border=\"1\" class=\"dataframe\">\n",
       "  <thead>\n",
       "    <tr style=\"text-align: right;\">\n",
       "      <th></th>\n",
       "      <th>COUNT(Details)</th>\n",
       "      <th>Total amount used to pay for alcohol</th>\n",
       "    </tr>\n",
       "  </thead>\n",
       "  <tbody>\n",
       "    <tr>\n",
       "      <th>0</th>\n",
       "      <td>90</td>\n",
       "      <td>37389.0</td>\n",
       "    </tr>\n",
       "  </tbody>\n",
       "</table>\n",
       "</div>"
      ],
      "text/plain": [
       "   COUNT(Details)  Total amount used to pay for alcohol\n",
       "0              90                               37389.0"
      ]
     },
     "execution_count": 12,
     "metadata": {},
     "output_type": "execute_result"
    }
   ],
   "source": [
    "%%sql\n",
    "SELECT COUNT(Details), SUM(ABS(Withdrawn)) AS 'Total amount used to pay for alcohol'\n",
    "FROM mpesa\n",
    "WHERE Details LIKE '%Wines%' OR Details LIKE '%SIMBA' OR Details LIKE '%PUB';"
   ]
  },
  {
   "attachments": {},
   "cell_type": "markdown",
   "metadata": {},
   "source": [
    "**Showing total amount spent on alcohol**"
   ]
  },
  {
   "cell_type": "code",
   "execution_count": 4,
   "metadata": {},
   "outputs": [
    {
     "name": "stdout",
     "output_type": "stream",
     "text": [
      "[45220, 132]\n"
     ]
    }
   ],
   "source": [
    "pombe = df.dropna(subset=['Details', 'Withdrawn'])\n",
    "s = ['Wines', 'Onsare', 'Bar', 'Pub', 'Simba', 'Tamasha']\n",
    "v = pombe['Details'].str.contains('|'.join(s), case=False)\n",
    "total_amount = [pombe.loc[v, 'Withdrawn'].sum(), pombe.loc[v, 'Withdrawn'].count()]\n",
    "absolute_values = [abs(value) for value in total_amount]\n",
    "print(absolute_values)\n"
   ]
  },
  {
   "attachments": {},
   "cell_type": "markdown",
   "metadata": {},
   "source": [
    "**Showing the total amount used to repay Fuliza**"
   ]
  },
  {
   "cell_type": "code",
   "execution_count": 14,
   "metadata": {},
   "outputs": [
    {
     "name": "stdout",
     "output_type": "stream",
     "text": [
      " * sqlite:////home/muregz/data_analysis/mpesa_statement_analysis/mpesa_statement_database\n",
      "Done.\n"
     ]
    },
    {
     "data": {
      "text/html": [
       "<div>\n",
       "<style scoped>\n",
       "    .dataframe tbody tr th:only-of-type {\n",
       "        vertical-align: middle;\n",
       "    }\n",
       "\n",
       "    .dataframe tbody tr th {\n",
       "        vertical-align: top;\n",
       "    }\n",
       "\n",
       "    .dataframe thead th {\n",
       "        text-align: right;\n",
       "    }\n",
       "</style>\n",
       "<table border=\"1\" class=\"dataframe\">\n",
       "  <thead>\n",
       "    <tr style=\"text-align: right;\">\n",
       "      <th></th>\n",
       "      <th>Amount used to repay fuliza loan</th>\n",
       "    </tr>\n",
       "  </thead>\n",
       "  <tbody>\n",
       "    <tr>\n",
       "      <th>0</th>\n",
       "      <td>104549.0</td>\n",
       "    </tr>\n",
       "  </tbody>\n",
       "</table>\n",
       "</div>"
      ],
      "text/plain": [
       "   Amount used to repay fuliza loan\n",
       "0                          104549.0"
      ]
     },
     "execution_count": 14,
     "metadata": {},
     "output_type": "execute_result"
    }
   ],
   "source": [
    "%%sql\n",
    "SELECT SUM(ABS(Withdrawn)) AS `Amount used to repay fuliza loan`\n",
    "FROM mpesa WHERE Details\n",
    "LIKE '%Fuliza%';"
   ]
  },
  {
   "cell_type": "code",
   "execution_count": 5,
   "metadata": {},
   "outputs": [
    {
     "name": "stdout",
     "output_type": "stream",
     "text": [
      "[104549]\n"
     ]
    }
   ],
   "source": [
    "df = df.dropna(subset=['Details', 'Withdrawn'])\n",
    "fuliza_loan = df['Details'].str.contains('Fuliza')\n",
    "repaid = [df.loc[fuliza_loan, 'Withdrawn'].sum()]\n",
    "repaid_absolute = [abs(value) for value in repaid]\n",
    "print(repaid_absolute)"
   ]
  },
  {
   "attachments": {},
   "cell_type": "markdown",
   "metadata": {},
   "source": [
    "**Showing amount used to buy airtime**"
   ]
  },
  {
   "cell_type": "code",
   "execution_count": 16,
   "metadata": {},
   "outputs": [
    {
     "name": "stdout",
     "output_type": "stream",
     "text": [
      " * sqlite:////home/muregz/data_analysis/mpesa_statement_analysis/mpesa_statement_database\n",
      "Done.\n"
     ]
    },
    {
     "data": {
      "text/html": [
       "<div>\n",
       "<style scoped>\n",
       "    .dataframe tbody tr th:only-of-type {\n",
       "        vertical-align: middle;\n",
       "    }\n",
       "\n",
       "    .dataframe tbody tr th {\n",
       "        vertical-align: top;\n",
       "    }\n",
       "\n",
       "    .dataframe thead th {\n",
       "        text-align: right;\n",
       "    }\n",
       "</style>\n",
       "<table border=\"1\" class=\"dataframe\">\n",
       "  <thead>\n",
       "    <tr style=\"text-align: right;\">\n",
       "      <th></th>\n",
       "      <th>Total amount used</th>\n",
       "    </tr>\n",
       "  </thead>\n",
       "  <tbody>\n",
       "    <tr>\n",
       "      <th>0</th>\n",
       "      <td>3318.0</td>\n",
       "    </tr>\n",
       "  </tbody>\n",
       "</table>\n",
       "</div>"
      ],
      "text/plain": [
       "   Total amount used\n",
       "0             3318.0"
      ]
     },
     "execution_count": 16,
     "metadata": {},
     "output_type": "execute_result"
    }
   ],
   "source": [
    "%%sql\n",
    "SELECT SUM(ABS(Withdrawn)) AS `Total amount used`\n",
    "FROM mpesa WHERE Details\n",
    "LIKE '%Airtime%';"
   ]
  },
  {
   "cell_type": "code",
   "execution_count": 35,
   "metadata": {},
   "outputs": [
    {
     "name": "stdout",
     "output_type": "stream",
     "text": [
      "[3318]\n"
     ]
    }
   ],
   "source": [
    "airtime = df['Details'].str.contains(\"Airtime\")\n",
    "airtime_amount = [df.loc[airtime, 'Withdrawn'].sum()]\n",
    "airtime_absolute = [abs(value) for value in airtime_amount]\n",
    "print(airtime_absolute)"
   ]
  },
  {
   "attachments": {},
   "cell_type": "markdown",
   "metadata": {},
   "source": [
    "# showing amount used to pay for electricity"
   ]
  },
  {
   "cell_type": "code",
   "execution_count": 40,
   "metadata": {},
   "outputs": [
    {
     "name": "stdout",
     "output_type": "stream",
     "text": [
      "[614]\n"
     ]
    }
   ],
   "source": [
    "tokens = df['Details'].str.contains('KPLC')\n",
    "tokens_amount = [df.loc[tokens, 'Withdrawn'].sum()]\n",
    "tokens_absolute = [abs(value) for value in tokens_amount]\n",
    "print(tokens_absolute)"
   ]
  },
  {
   "attachments": {},
   "cell_type": "markdown",
   "metadata": {},
   "source": [
    "**amount used to pay rent**"
   ]
  },
  {
   "cell_type": "code",
   "execution_count": 13,
   "metadata": {},
   "outputs": [
    {
     "name": "stdout",
     "output_type": "stream",
     "text": [
      "[43600]\n"
     ]
    }
   ],
   "source": [
    "rent = ['Mbuvi', 'Cosmic', 'Pay Bill to 247247 - Equity Paybill Account Acc.0300196339189']\n",
    "rent_amount = df['Details'].str.contains('|'.join(rent), case=False)\n",
    "total_rent = [df.loc[rent_amount, 'Withdrawn'].sum()]\n",
    "rent_absolute = [abs(value) for value in total_rent]\n",
    "print(rent_absolute)"
   ]
  },
  {
   "attachments": {},
   "cell_type": "markdown",
   "metadata": {},
   "source": [
    "**Amount used to buy recreational drugs**"
   ]
  },
  {
   "cell_type": "code",
   "execution_count": 18,
   "metadata": {},
   "outputs": [
    {
     "name": "stdout",
     "output_type": "stream",
     "text": [
      " * sqlite:////home/muregz/data_analysis/mpesa_statement_analysis/mpesa_statement_database\n",
      "Done.\n"
     ]
    },
    {
     "data": {
      "text/html": [
       "<div>\n",
       "<style scoped>\n",
       "    .dataframe tbody tr th:only-of-type {\n",
       "        vertical-align: middle;\n",
       "    }\n",
       "\n",
       "    .dataframe tbody tr th {\n",
       "        vertical-align: top;\n",
       "    }\n",
       "\n",
       "    .dataframe thead th {\n",
       "        text-align: right;\n",
       "    }\n",
       "</style>\n",
       "<table border=\"1\" class=\"dataframe\">\n",
       "  <thead>\n",
       "    <tr style=\"text-align: right;\">\n",
       "      <th></th>\n",
       "      <th>Total Amount Used</th>\n",
       "    </tr>\n",
       "  </thead>\n",
       "  <tbody>\n",
       "    <tr>\n",
       "      <th>0</th>\n",
       "      <td>10525.0</td>\n",
       "    </tr>\n",
       "  </tbody>\n",
       "</table>\n",
       "</div>"
      ],
      "text/plain": [
       "   Total Amount Used\n",
       "0            10525.0"
      ]
     },
     "execution_count": 18,
     "metadata": {},
     "output_type": "execute_result"
    }
   ],
   "source": [
    "%%sql\n",
    "SELECT SUM(ABS(Withdrawn)) AS `Total Amount Used`\n",
    "FROM mpesa\n",
    "WHERE Details LIKE '%Ian Maina%' OR Details LIKE '%Muganda%' OR Details LIKE '%Wambwa%'; -- Hiding the names you know why"
   ]
  },
  {
   "cell_type": "code",
   "execution_count": 33,
   "metadata": {},
   "outputs": [
    {
     "name": "stdout",
     "output_type": "stream",
     "text": [
      "[10525]\n"
     ]
    }
   ],
   "source": [
    "recreational = ['Ian Maina', 'Muganda', 'Wambwa']\n",
    "drugs = df['Details'].str.contains('|'.join(recreational), case=False)\n",
    "recreational_drugs = [df.loc[drugs, 'Withdrawn'].sum()]\n",
    "recreational_absolute = [abs(value) for value in recreational_drugs]\n",
    "print(recreational_absolute)\n"
   ]
  },
  {
   "attachments": {},
   "cell_type": "markdown",
   "metadata": {},
   "source": [
    "**Showing total amount received**"
   ]
  },
  {
   "cell_type": "code",
   "execution_count": 20,
   "metadata": {},
   "outputs": [
    {
     "name": "stdout",
     "output_type": "stream",
     "text": [
      " * sqlite:////home/muregz/data_analysis/mpesa_statement_analysis/mpesa_statement_database\n",
      "Done.\n"
     ]
    },
    {
     "data": {
      "text/html": [
       "<div>\n",
       "<style scoped>\n",
       "    .dataframe tbody tr th:only-of-type {\n",
       "        vertical-align: middle;\n",
       "    }\n",
       "\n",
       "    .dataframe tbody tr th {\n",
       "        vertical-align: top;\n",
       "    }\n",
       "\n",
       "    .dataframe thead th {\n",
       "        text-align: right;\n",
       "    }\n",
       "</style>\n",
       "<table border=\"1\" class=\"dataframe\">\n",
       "  <thead>\n",
       "    <tr style=\"text-align: right;\">\n",
       "      <th></th>\n",
       "      <th>Total Amount Received</th>\n",
       "    </tr>\n",
       "  </thead>\n",
       "  <tbody>\n",
       "    <tr>\n",
       "      <th>0</th>\n",
       "      <td>223348</td>\n",
       "    </tr>\n",
       "  </tbody>\n",
       "</table>\n",
       "</div>"
      ],
      "text/plain": [
       "   Total Amount Received\n",
       "0                 223348"
      ]
     },
     "execution_count": 20,
     "metadata": {},
     "output_type": "execute_result"
    }
   ],
   "source": [
    "%%sql\n",
    "SELECT SUM(`Paid In`) AS `Total Amount Received`\n",
    "FROM mpesa\n",
    "WHERE Details LIKE '%Funds received%' OR Details LIKE '%International Transfer%';"
   ]
  },
  {
   "attachments": {},
   "cell_type": "markdown",
   "metadata": {},
   "source": [
    "**Showing total amount used**"
   ]
  },
  {
   "cell_type": "code",
   "execution_count": 22,
   "metadata": {},
   "outputs": [
    {
     "name": "stdout",
     "output_type": "stream",
     "text": [
      " * sqlite:////home/muregz/data_analysis/mpesa_statement_analysis/mpesa_statement_database\n",
      "Done.\n"
     ]
    },
    {
     "data": {
      "text/html": [
       "<div>\n",
       "<style scoped>\n",
       "    .dataframe tbody tr th:only-of-type {\n",
       "        vertical-align: middle;\n",
       "    }\n",
       "\n",
       "    .dataframe tbody tr th {\n",
       "        vertical-align: top;\n",
       "    }\n",
       "\n",
       "    .dataframe thead th {\n",
       "        text-align: right;\n",
       "    }\n",
       "</style>\n",
       "<table border=\"1\" class=\"dataframe\">\n",
       "  <thead>\n",
       "    <tr style=\"text-align: right;\">\n",
       "      <th></th>\n",
       "      <th>Total amount used</th>\n",
       "    </tr>\n",
       "  </thead>\n",
       "  <tbody>\n",
       "    <tr>\n",
       "      <th>0</th>\n",
       "      <td>468381.71</td>\n",
       "    </tr>\n",
       "  </tbody>\n",
       "</table>\n",
       "</div>"
      ],
      "text/plain": [
       "   Total amount used\n",
       "0          468381.71"
      ]
     },
     "execution_count": 22,
     "metadata": {},
     "output_type": "execute_result"
    }
   ],
   "source": [
    "%%sql\n",
    "SELECT SUM(ABS(Withdrawn)) AS `Total amount used`\n",
    "FROM mpesa;"
   ]
  },
  {
   "attachments": {},
   "cell_type": "markdown",
   "metadata": {},
   "source": [
    "$$\n",
    "VISUALIZATION\n",
    "$$"
   ]
  },
  {
   "cell_type": "code",
   "execution_count": 41,
   "metadata": {},
   "outputs": [
    {
     "data": {
      "image/png": "[encoded data removed]",
      "text/plain": [
       "<Figure size 800x800 with 1 Axes>"
      ]
     },
     "metadata": {},
     "output_type": "display_data"
    }
   ],
   "source": [
    "import matplotlib.pyplot as plt\n",
    "import numpy as np\n",
    "\n",
    "subset = [recreational_absolute, rent_absolute, tokens_absolute, airtime_absolute, repaid_absolute, absolute_values]\n",
    "\n",
    "# Calculate the sum of the values within each array\n",
    "subset_sums = [np.sum(arr) for arr in subset]\n",
    "\n",
    "# Calculate the total sum of all subsets\n",
    "total_subset = np.sum(subset_sums)\n",
    "\n",
    "# Plot the pie chart\n",
    "plt.figure(figsize=(8, 8))\n",
    "plt.pie(subset_sums, labels=['Recreational drugs', 'Rent', 'Tokens', 'Airtime', 'Fuliza repayment', 'Alcohol'], autopct='%1.1f%%', startangle=90)\n",
    "plt.title('How I Used My Money')\n",
    "plt.axis('equal')\n",
    "\n",
    "# Show the pie chart\n",
    "plt.show()\n"
   ]
  }
 ],
 "metadata": {
  "kernelspec": {
   "display_name": "Python 3",
   "language": "python",
   "name": "python3"
  },
  "language_info": {
   "codemirror_mode": {
    "name": "ipython",
    "version": 3
   },
   "file_extension": ".py",
   "mimetype": "text/x-python",
   "name": "python",
   "nbconvert_exporter": "python",
   "pygments_lexer": "ipython3",
   "version": "3.11.2"
  },
  "orig_nbformat": 4
 },
 "nbformat": 4,
 "nbformat_minor": 2
}
